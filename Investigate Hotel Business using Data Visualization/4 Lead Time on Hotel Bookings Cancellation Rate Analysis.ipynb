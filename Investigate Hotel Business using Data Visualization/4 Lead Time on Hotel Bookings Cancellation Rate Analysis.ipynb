{
  "nbformat": 4,
  "nbformat_minor": 0,
  "metadata": {
    "colab": {
      "name": "Impact Analysis of Lead Time on Hotel Bookings Cancellation Rate.ipynb",
      "provenance": []
    },
    "kernelspec": {
      "name": "python3",
      "display_name": "Python 3"
    },
    "language_info": {
      "name": "python"
    }
  },
  "cells": [
    {
      "cell_type": "markdown",
      "source": [
        "# Impact Analysis of Lead Time on Hotel Bookings Cancellation Rate"
      ],
      "metadata": {
        "id": "tJr5zdy7q-74"
      }
    },
    {
      "cell_type": "code",
      "source": [
        "import pandas as pd\n",
        "import numpy as np\n",
        "import matplotlib.pyplot as plt\n",
        "import seaborn as sns\n",
        "import warnings\n",
        "\n",
        "df_clean = pd.read_csv('/content/booking_hotel_clean.csv')\n",
        "\n",
        "warnings.filterwarnings(\"ignore\")\n",
        "sns.set_style(\"darkgrid\")"
      ],
      "metadata": {
        "id": "-wokvwZGq-fc"
      },
      "execution_count": 1,
      "outputs": []
    },
    {
      "cell_type": "markdown",
      "source": [
        "## Average Lead Time on Cancellation Bookings by Hotel Type"
      ],
      "metadata": {
        "id": "pnej6uWXrQKH"
      }
    },
    {
      "cell_type": "code",
      "source": [
        "df_clean.head()"
      ],
      "metadata": {
        "colab": {
          "base_uri": "https://localhost:8080/",
          "height": 386
        },
        "id": "TZcsP7cBrfFL",
        "outputId": "f556c247-f7a9-44a7-b0ad-571815ebf792"
      },
      "execution_count": 2,
      "outputs": [
        {
          "output_type": "execute_result",
          "data": {
            "text/plain": [
              "          hotel  is_canceled  lead_time  stays_in_weekend_nights  \\\n",
              "0  Resort Hotel            0        342                        0   \n",
              "1  Resort Hotel            0        737                        0   \n",
              "2  Resort Hotel            0          7                        0   \n",
              "3  Resort Hotel            0         13                        0   \n",
              "4  Resort Hotel            0         14                        0   \n",
              "\n",
              "   stays_in_weekdays_nights  meal_type              city market_segment  \\\n",
              "0                         0  Breakfast     Kota Denpasar         Direct   \n",
              "1                         0  Breakfast     Kota Denpasar         Direct   \n",
              "2                         1  Breakfast  Kabupaten Bangka         Direct   \n",
              "3                         1  Breakfast  Kabupaten Bangka      Corporate   \n",
              "4                         2  Breakfast  Kabupaten Bangka      Online TA   \n",
              "\n",
              "  distribution_channel  is_repeated_guest  ...  company  days_in_waiting_list  \\\n",
              "0               Direct                  0  ...      0.0                     0   \n",
              "1               Direct                  0  ...      0.0                     0   \n",
              "2               Direct                  0  ...      0.0                     0   \n",
              "3            Corporate                  0  ...      0.0                     0   \n",
              "4                TA/TO                  0  ...      0.0                     0   \n",
              "\n",
              "   customer_type   adr  required_car_parking_spaces  \\\n",
              "0       Personal   0.0                            0   \n",
              "1       Personal   0.0                            0   \n",
              "2       Personal  75.0                            0   \n",
              "3       Personal  75.0                            0   \n",
              "4       Personal  98.0                            0   \n",
              "\n",
              "   total_of_special_requests  reservation_status total_guest        date  \\\n",
              "0                          0           Check-Out         2.0  2017-09-01   \n",
              "1                          0           Check-Out         2.0  2017-09-01   \n",
              "2                          0           Check-Out         1.0  2017-09-01   \n",
              "3                          0           Check-Out         1.0  2017-09-01   \n",
              "4                          1           Check-Out         2.0  2017-09-01   \n",
              "\n",
              "   date_normalize  \n",
              "0      2017-09-01  \n",
              "1      2017-09-01  \n",
              "2      2017-09-01  \n",
              "3      2017-09-01  \n",
              "4      2017-09-01  \n",
              "\n",
              "[5 rows x 25 columns]"
            ],
            "text/html": [
              "\n",
              "  <div id=\"df-68316969-9113-44c8-aeb1-e4acd03a82eb\">\n",
              "    <div class=\"colab-df-container\">\n",
              "      <div>\n",
              "<style scoped>\n",
              "    .dataframe tbody tr th:only-of-type {\n",
              "        vertical-align: middle;\n",
              "    }\n",
              "\n",
              "    .dataframe tbody tr th {\n",
              "        vertical-align: top;\n",
              "    }\n",
              "\n",
              "    .dataframe thead th {\n",
              "        text-align: right;\n",
              "    }\n",
              "</style>\n",
              "<table border=\"1\" class=\"dataframe\">\n",
              "  <thead>\n",
              "    <tr style=\"text-align: right;\">\n",
              "      <th></th>\n",
              "      <th>hotel</th>\n",
              "      <th>is_canceled</th>\n",
              "      <th>lead_time</th>\n",
              "      <th>stays_in_weekend_nights</th>\n",
              "      <th>stays_in_weekdays_nights</th>\n",
              "      <th>meal_type</th>\n",
              "      <th>city</th>\n",
              "      <th>market_segment</th>\n",
              "      <th>distribution_channel</th>\n",
              "      <th>is_repeated_guest</th>\n",
              "      <th>...</th>\n",
              "      <th>company</th>\n",
              "      <th>days_in_waiting_list</th>\n",
              "      <th>customer_type</th>\n",
              "      <th>adr</th>\n",
              "      <th>required_car_parking_spaces</th>\n",
              "      <th>total_of_special_requests</th>\n",
              "      <th>reservation_status</th>\n",
              "      <th>total_guest</th>\n",
              "      <th>date</th>\n",
              "      <th>date_normalize</th>\n",
              "    </tr>\n",
              "  </thead>\n",
              "  <tbody>\n",
              "    <tr>\n",
              "      <th>0</th>\n",
              "      <td>Resort Hotel</td>\n",
              "      <td>0</td>\n",
              "      <td>342</td>\n",
              "      <td>0</td>\n",
              "      <td>0</td>\n",
              "      <td>Breakfast</td>\n",
              "      <td>Kota Denpasar</td>\n",
              "      <td>Direct</td>\n",
              "      <td>Direct</td>\n",
              "      <td>0</td>\n",
              "      <td>...</td>\n",
              "      <td>0.0</td>\n",
              "      <td>0</td>\n",
              "      <td>Personal</td>\n",
              "      <td>0.0</td>\n",
              "      <td>0</td>\n",
              "      <td>0</td>\n",
              "      <td>Check-Out</td>\n",
              "      <td>2.0</td>\n",
              "      <td>2017-09-01</td>\n",
              "      <td>2017-09-01</td>\n",
              "    </tr>\n",
              "    <tr>\n",
              "      <th>1</th>\n",
              "      <td>Resort Hotel</td>\n",
              "      <td>0</td>\n",
              "      <td>737</td>\n",
              "      <td>0</td>\n",
              "      <td>0</td>\n",
              "      <td>Breakfast</td>\n",
              "      <td>Kota Denpasar</td>\n",
              "      <td>Direct</td>\n",
              "      <td>Direct</td>\n",
              "      <td>0</td>\n",
              "      <td>...</td>\n",
              "      <td>0.0</td>\n",
              "      <td>0</td>\n",
              "      <td>Personal</td>\n",
              "      <td>0.0</td>\n",
              "      <td>0</td>\n",
              "      <td>0</td>\n",
              "      <td>Check-Out</td>\n",
              "      <td>2.0</td>\n",
              "      <td>2017-09-01</td>\n",
              "      <td>2017-09-01</td>\n",
              "    </tr>\n",
              "    <tr>\n",
              "      <th>2</th>\n",
              "      <td>Resort Hotel</td>\n",
              "      <td>0</td>\n",
              "      <td>7</td>\n",
              "      <td>0</td>\n",
              "      <td>1</td>\n",
              "      <td>Breakfast</td>\n",
              "      <td>Kabupaten Bangka</td>\n",
              "      <td>Direct</td>\n",
              "      <td>Direct</td>\n",
              "      <td>0</td>\n",
              "      <td>...</td>\n",
              "      <td>0.0</td>\n",
              "      <td>0</td>\n",
              "      <td>Personal</td>\n",
              "      <td>75.0</td>\n",
              "      <td>0</td>\n",
              "      <td>0</td>\n",
              "      <td>Check-Out</td>\n",
              "      <td>1.0</td>\n",
              "      <td>2017-09-01</td>\n",
              "      <td>2017-09-01</td>\n",
              "    </tr>\n",
              "    <tr>\n",
              "      <th>3</th>\n",
              "      <td>Resort Hotel</td>\n",
              "      <td>0</td>\n",
              "      <td>13</td>\n",
              "      <td>0</td>\n",
              "      <td>1</td>\n",
              "      <td>Breakfast</td>\n",
              "      <td>Kabupaten Bangka</td>\n",
              "      <td>Corporate</td>\n",
              "      <td>Corporate</td>\n",
              "      <td>0</td>\n",
              "      <td>...</td>\n",
              "      <td>0.0</td>\n",
              "      <td>0</td>\n",
              "      <td>Personal</td>\n",
              "      <td>75.0</td>\n",
              "      <td>0</td>\n",
              "      <td>0</td>\n",
              "      <td>Check-Out</td>\n",
              "      <td>1.0</td>\n",
              "      <td>2017-09-01</td>\n",
              "      <td>2017-09-01</td>\n",
              "    </tr>\n",
              "    <tr>\n",
              "      <th>4</th>\n",
              "      <td>Resort Hotel</td>\n",
              "      <td>0</td>\n",
              "      <td>14</td>\n",
              "      <td>0</td>\n",
              "      <td>2</td>\n",
              "      <td>Breakfast</td>\n",
              "      <td>Kabupaten Bangka</td>\n",
              "      <td>Online TA</td>\n",
              "      <td>TA/TO</td>\n",
              "      <td>0</td>\n",
              "      <td>...</td>\n",
              "      <td>0.0</td>\n",
              "      <td>0</td>\n",
              "      <td>Personal</td>\n",
              "      <td>98.0</td>\n",
              "      <td>0</td>\n",
              "      <td>1</td>\n",
              "      <td>Check-Out</td>\n",
              "      <td>2.0</td>\n",
              "      <td>2017-09-01</td>\n",
              "      <td>2017-09-01</td>\n",
              "    </tr>\n",
              "  </tbody>\n",
              "</table>\n",
              "<p>5 rows × 25 columns</p>\n",
              "</div>\n",
              "      <button class=\"colab-df-convert\" onclick=\"convertToInteractive('df-68316969-9113-44c8-aeb1-e4acd03a82eb')\"\n",
              "              title=\"Convert this dataframe to an interactive table.\"\n",
              "              style=\"display:none;\">\n",
              "        \n",
              "  <svg xmlns=\"http://www.w3.org/2000/svg\" height=\"24px\"viewBox=\"0 0 24 24\"\n",
              "       width=\"24px\">\n",
              "    <path d=\"M0 0h24v24H0V0z\" fill=\"none\"/>\n",
              "    <path d=\"M18.56 5.44l.94 2.06.94-2.06 2.06-.94-2.06-.94-.94-2.06-.94 2.06-2.06.94zm-11 1L8.5 8.5l.94-2.06 2.06-.94-2.06-.94L8.5 2.5l-.94 2.06-2.06.94zm10 10l.94 2.06.94-2.06 2.06-.94-2.06-.94-.94-2.06-.94 2.06-2.06.94z\"/><path d=\"M17.41 7.96l-1.37-1.37c-.4-.4-.92-.59-1.43-.59-.52 0-1.04.2-1.43.59L10.3 9.45l-7.72 7.72c-.78.78-.78 2.05 0 2.83L4 21.41c.39.39.9.59 1.41.59.51 0 1.02-.2 1.41-.59l7.78-7.78 2.81-2.81c.8-.78.8-2.07 0-2.86zM5.41 20L4 18.59l7.72-7.72 1.47 1.35L5.41 20z\"/>\n",
              "  </svg>\n",
              "      </button>\n",
              "      \n",
              "  <style>\n",
              "    .colab-df-container {\n",
              "      display:flex;\n",
              "      flex-wrap:wrap;\n",
              "      gap: 12px;\n",
              "    }\n",
              "\n",
              "    .colab-df-convert {\n",
              "      background-color: #E8F0FE;\n",
              "      border: none;\n",
              "      border-radius: 50%;\n",
              "      cursor: pointer;\n",
              "      display: none;\n",
              "      fill: #1967D2;\n",
              "      height: 32px;\n",
              "      padding: 0 0 0 0;\n",
              "      width: 32px;\n",
              "    }\n",
              "\n",
              "    .colab-df-convert:hover {\n",
              "      background-color: #E2EBFA;\n",
              "      box-shadow: 0px 1px 2px rgba(60, 64, 67, 0.3), 0px 1px 3px 1px rgba(60, 64, 67, 0.15);\n",
              "      fill: #174EA6;\n",
              "    }\n",
              "\n",
              "    [theme=dark] .colab-df-convert {\n",
              "      background-color: #3B4455;\n",
              "      fill: #D2E3FC;\n",
              "    }\n",
              "\n",
              "    [theme=dark] .colab-df-convert:hover {\n",
              "      background-color: #434B5C;\n",
              "      box-shadow: 0px 1px 3px 1px rgba(0, 0, 0, 0.15);\n",
              "      filter: drop-shadow(0px 1px 2px rgba(0, 0, 0, 0.3));\n",
              "      fill: #FFFFFF;\n",
              "    }\n",
              "  </style>\n",
              "\n",
              "      <script>\n",
              "        const buttonEl =\n",
              "          document.querySelector('#df-68316969-9113-44c8-aeb1-e4acd03a82eb button.colab-df-convert');\n",
              "        buttonEl.style.display =\n",
              "          google.colab.kernel.accessAllowed ? 'block' : 'none';\n",
              "\n",
              "        async function convertToInteractive(key) {\n",
              "          const element = document.querySelector('#df-68316969-9113-44c8-aeb1-e4acd03a82eb');\n",
              "          const dataTable =\n",
              "            await google.colab.kernel.invokeFunction('convertToInteractive',\n",
              "                                                     [key], {});\n",
              "          if (!dataTable) return;\n",
              "\n",
              "          const docLinkHtml = 'Like what you see? Visit the ' +\n",
              "            '<a target=\"_blank\" href=https://colab.research.google.com/notebooks/data_table.ipynb>data table notebook</a>'\n",
              "            + ' to learn more about interactive tables.';\n",
              "          element.innerHTML = '';\n",
              "          dataTable['output_type'] = 'display_data';\n",
              "          await google.colab.output.renderOutput(dataTable, element);\n",
              "          const docLink = document.createElement('div');\n",
              "          docLink.innerHTML = docLinkHtml;\n",
              "          element.appendChild(docLink);\n",
              "        }\n",
              "      </script>\n",
              "    </div>\n",
              "  </div>\n",
              "  "
            ]
          },
          "metadata": {},
          "execution_count": 2
        }
      ]
    },
    {
      "cell_type": "code",
      "source": [
        "#Select the column\n",
        "\n",
        "leadtime = df_clean[['hotel', 'is_canceled', 'lead_time', 'date_normalize']]"
      ],
      "metadata": {
        "id": "VYOk8OHfrQKJ"
      },
      "execution_count": 3,
      "outputs": []
    },
    {
      "cell_type": "code",
      "source": [
        "#Split dataset by Hotel Type\n",
        "\n",
        "leadtime['is_canceled'].replace({0:'No', 1:'Yes'}, inplace=True)\n",
        "alt_resort = leadtime[leadtime['hotel'] == 'Resort Hotel']\n",
        "alt_city = leadtime[leadtime['hotel'] == 'City Hotel']"
      ],
      "metadata": {
        "id": "V7R4oR2P8pAZ"
      },
      "execution_count": 4,
      "outputs": []
    },
    {
      "cell_type": "code",
      "source": [
        "#Resort Hotel\n",
        "alt_resort_grouped = alt_resort.groupby(['date_normalize','is_canceled']).agg({'lead_time':'mean'}).reset_index()\n",
        "alt_resort_grouped['date_normalize'] = pd.to_datetime(alt_resort_grouped['date_normalize'])\n",
        "\n",
        "#City Hotel\n",
        "alt_city_grouped = alt_city.groupby(['date_normalize','is_canceled']).agg({'lead_time':'mean'}).reset_index()\n",
        "alt_city_grouped['date_normalize'] = pd.to_datetime(alt_city_grouped['date_normalize'])\n",
        "\n",
        "#Visualize\n",
        "fig, ax = plt.subplots(2,1,figsize=(15,5))\n",
        "sns.lineplot(data=alt_resort_grouped, x='date_normalize', y='lead_time', hue='is_canceled', ax=ax[0])\n",
        "sns.lineplot(data=alt_city_grouped, x='date_normalize', y='lead_time', hue='is_canceled', ax=ax[1])\n",
        "ax[0].title.set_text('Resort Hotel')\n",
        "ax[1].title.set_text('City Hotel')\n",
        "plt.tight_layout()\n",
        "plt.show()\n"
      ],
      "metadata": {
        "colab": {
          "base_uri": "https://localhost:8080/",
          "height": 369
        },
        "id": "1zvOQler9B6-",
        "outputId": "1f21585a-a1f6-4443-a468-784902ce907c"
      },
      "execution_count": 5,
      "outputs": [
        {
          "output_type": "display_data",
          "data": {
            "text/plain": [
              "<Figure size 1080x360 with 2 Axes>"
            ],
            "image/png": "[encoded data removed]"
          },
          "metadata": {
            "needs_background": "light"
          }
        }
      ]
    },
    {
      "cell_type": "code",
      "source": [
        "#Export Dataset\n",
        "alt_resort_grouped.to_csv('alt_resort.csv', index=False)\n",
        "alt_city_grouped.to_csv('alt_city.csv', index=False)"
      ],
      "metadata": {
        "id": "pmI_tNzrN_DW"
      },
      "execution_count": 6,
      "outputs": []
    },
    {
      "cell_type": "markdown",
      "source": [
        "## Average Lead Time on Cancellation Bookings by Lead Time Category"
      ],
      "metadata": {
        "id": "ICa1Cern8zRJ"
      }
    },
    {
      "cell_type": "code",
      "source": [
        "#Use Statistic Descriptive to Grouping the Lead Time\n",
        "leadtime['lead_time'].describe()"
      ],
      "metadata": {
        "colab": {
          "base_uri": "https://localhost:8080/"
        },
        "id": "NjsFC5PvCf-7",
        "outputId": "4fe00755-af23-4c60-f4ce-b56798d8e644"
      },
      "execution_count": 7,
      "outputs": [
        {
          "output_type": "execute_result",
          "data": {
            "text/plain": [
              "count    86129.000000\n",
              "mean        79.246224\n",
              "std         85.498774\n",
              "min          0.000000\n",
              "25%         11.000000\n",
              "50%         49.000000\n",
              "75%        124.000000\n",
              "max        737.000000\n",
              "Name: lead_time, dtype: float64"
            ]
          },
          "metadata": {},
          "execution_count": 7
        }
      ]
    },
    {
      "cell_type": "code",
      "source": [
        "#Grouping Lead Time \n",
        "conditions = [\n",
        "    leadtime['lead_time'].isin(list(range(0,12))),\n",
        "    leadtime['lead_time'].isin(list(range(12,50))),\n",
        "    leadtime['lead_time'].isin(list(range(50,125))),\n",
        "    leadtime['lead_time'].isin(list(range(125,295))),\n",
        "    leadtime['lead_time'].isin(list(range(295,738)))\n",
        "]\n",
        "\n",
        "choices = ['last_minute', 'short_lead', 'medium_lead', 'long_lead', 'very_long_lead']\n",
        "\n",
        "leadtime['lead_category'] = np.select(conditions, choices)"
      ],
      "metadata": {
        "id": "6P5Hm9kHIFEc"
      },
      "execution_count": 8,
      "outputs": []
    },
    {
      "cell_type": "code",
      "source": [
        "#Split dataset by Lead Time\n",
        "\n",
        "lastminute = leadtime[leadtime['lead_category'] == 'last_minute']\n",
        "shortlead = leadtime[leadtime['lead_category'] == 'short_lead']\n",
        "mediumlead = leadtime[leadtime['lead_category'] == 'medium_lead']\n",
        "longlead = leadtime[leadtime['lead_category'] == 'long_lead']\n",
        "verylonglead = leadtime[leadtime['lead_category'] == 'very_long_lead']"
      ],
      "metadata": {
        "id": "yJo9t4LbK7BN"
      },
      "execution_count": 9,
      "outputs": []
    },
    {
      "cell_type": "code",
      "source": [
        "#Grouping dataset\n",
        "\n",
        "alt_lastminute = lastminute.groupby(['hotel', 'date_normalize', 'is_canceled']).agg({'lead_time':'mean'}).reset_index()\n",
        "alt_shortlead = shortlead.groupby(['hotel', 'date_normalize', 'is_canceled']).agg({'lead_time':'mean'}).reset_index()\n",
        "alt_mediumlead = mediumlead.groupby(['hotel', 'date_normalize', 'is_canceled']).agg({'lead_time':'mean'}).reset_index()\n",
        "alt_longlead = longlead.groupby(['hotel', 'date_normalize', 'is_canceled']).agg({'lead_time':'mean'}).reset_index()\n",
        "alt_verylonglead = verylonglead.groupby(['hotel', 'date_normalize', 'is_canceled']).agg({'lead_time':'mean'}).reset_index()"
      ],
      "metadata": {
        "id": "u0zL4mp8NtZ4"
      },
      "execution_count": 10,
      "outputs": []
    },
    {
      "cell_type": "code",
      "source": [
        "#Visualize\n",
        "\n",
        "fig, ax = plt.subplots(3,2,figsize=(15,12))\n",
        "sns.lineplot(data=alt_lastminute, x='date_normalize', y='lead_time', hue='is_canceled', ax=ax[0,0])\n",
        "sns.lineplot(data=alt_shortlead, x='date_normalize', y='lead_time', hue='is_canceled', ax=ax[0,1])\n",
        "sns.lineplot(data=alt_mediumlead, x='date_normalize', y='lead_time', hue='is_canceled', ax=ax[1,0])\n",
        "sns.lineplot(data=alt_longlead, x='date_normalize', y='lead_time', hue='is_canceled', ax=ax[1,1])\n",
        "sns.lineplot(data=alt_verylonglead, x='date_normalize', y='lead_time', hue='is_canceled', ax=ax[2,0])\n",
        "ax[0,0].set_xticklabels(labels=alt_lastminute.date_normalize,rotation=70)\n",
        "ax[0,1].set_xticklabels(labels=alt_shortlead.date_normalize,rotation=70)\n",
        "ax[1,0].set_xticklabels(labels=alt_mediumlead.date_normalize,rotation=70)\n",
        "ax[1,1].set_xticklabels(labels=alt_longlead.date_normalize,rotation=70)\n",
        "ax[2,0].set_xticklabels(labels=alt_verylonglead.date_normalize,rotation=70)\n",
        "ax[0,0].set_title('Last Minute Lead Time')\n",
        "ax[0,1].set_title('Short Lead Time')\n",
        "ax[1,0].set_title('Medium Lead Time')\n",
        "ax[1,1].set_title('Long Lead Time')\n",
        "ax[2,0].set_title('Very Long Lead Time')\n",
        "fig.delaxes(ax[2,1])\n",
        "plt.tight_layout()\n",
        "plt.show()"
      ],
      "metadata": {
        "id": "U3vQxv_YON24"
      },
      "execution_count": null,
      "outputs": []
    },
    {
      "cell_type": "code",
      "source": [
        "# #Export Dataset\n",
        "alt_lastminute.to_csv('alt_lastminute.csv', index=False)\n",
        "alt_shortlead.to_csv('alt_shortlead.csv', index=False)\n",
        "alt_mediumlead.to_csv('alt_mediumlead.csv', index=False)\n",
        "alt_longlead.to_csv('alt_longlead.csv', index=False)\n",
        "alt_verylonglead.to_csv('alt_verylonglead.csv', index=False)"
      ],
      "metadata": {
        "id": "yxc-Vb3OOYPB"
      },
      "execution_count": null,
      "outputs": []
    }
  ]
}