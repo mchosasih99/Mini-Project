{
  "nbformat": 4,
  "nbformat_minor": 0,
  "metadata": {
    "colab": {
      "name": "Stay Duration on Bookings Cancellation Rates.ipynb",
      "provenance": []
    },
    "kernelspec": {
      "name": "python3",
      "display_name": "Python 3"
    },
    "language_info": {
      "name": "python"
    }
  },
  "cells": [
    {
      "cell_type": "markdown",
      "source": [
        "# Impact Analysis of Stay Duration on Bookings Cancellation Rates"
      ],
      "metadata": {
        "id": "OGLr6AgIcuFY"
      }
    },
    {
      "cell_type": "markdown",
      "source": [
        "## Prepare dataframe"
      ],
      "metadata": {
        "id": "E8-f2Xpn1Q34"
      }
    },
    {
      "cell_type": "code",
      "source": [
        "import pandas as pd\n",
        "import numpy as np\n",
        "import matplotlib.pyplot as plt\n",
        "import seaborn as sns\n",
        "import warnings\n",
        "df_clean = pd.read_csv('https://raw.githubusercontent.com/mchosasih99/dataset/main/1%20booking_hotel_clean.csv')\n",
        "\n",
        "warnings.filterwarnings(\"ignore\")\n",
        "sns.set_style(\"darkgrid\")"
      ],
      "metadata": {
        "id": "7UWIAHaQjZFn"
      },
      "execution_count": 1,
      "outputs": []
    },
    {
      "cell_type": "code",
      "source": [
        "#Select the columns\n",
        "\n",
        "stay = df_clean[['hotel', 'is_canceled', 'stays_in_weekend_nights', 'stays_in_weekdays_nights', 'reservation_status']]\n",
        "stay['stay_nights'] = stay['stays_in_weekend_nights'] + stay['stays_in_weekdays_nights']\n",
        "stay = stay.drop(['stays_in_weekend_nights', 'stays_in_weekdays_nights'], axis=1)"
      ],
      "metadata": {
        "id": "H37Wv5aHiMC5"
      },
      "execution_count": 2,
      "outputs": []
    },
    {
      "cell_type": "code",
      "source": [
        "#Separate canceled and non-cancelled bookings\n",
        "\n",
        "stay_non_canceled = stay[stay['is_canceled']==0]\n",
        "stay_canceled = stay[stay['is_canceled']==1]\n",
        "\n",
        "print('Non_canceled')\n",
        "print(stay_non_canceled['stay_nights'].describe())\n",
        "print(('*'*100))\n",
        "print('Canceled')\n",
        "print(stay_canceled['stay_nights'].describe())"
      ],
      "metadata": {
        "colab": {
          "base_uri": "https://localhost:8080/"
        },
        "id": "ZD1EOUW6jl6I",
        "outputId": "fa6d3637-81e1-4faf-820f-42474bbc9d79"
      },
      "execution_count": 3,
      "outputs": [
        {
          "output_type": "stream",
          "name": "stdout",
          "text": [
            "Non_canceled\n",
            "count    62393.000000\n",
            "mean         3.501531\n",
            "std          2.703626\n",
            "min          0.000000\n",
            "25%          2.000000\n",
            "50%          3.000000\n",
            "75%          4.000000\n",
            "max         69.000000\n",
            "Name: stay_nights, dtype: float64\n",
            "****************************************************************************************************\n",
            "Canceled\n",
            "count    23736.000000\n",
            "mean         4.014788\n",
            "std          2.905548\n",
            "min          0.000000\n",
            "25%          2.000000\n",
            "50%          3.000000\n",
            "75%          5.000000\n",
            "max         56.000000\n",
            "Name: stay_nights, dtype: float64\n"
          ]
        }
      ]
    },
    {
      "cell_type": "code",
      "source": [
        "#Grouping dataset\n",
        "stay_non_canceled['stay_category'] = np.where(stay_non_canceled['stay_nights'] > 7, 'Long', \n",
        "                                 (np.where(stay_non_canceled['stay_nights'] > 3, 'Mid', 'Short')))\n",
        "stay_canceled['stay_category'] = np.where(stay_canceled['stay_nights'] > 10, 'Long', \n",
        "                                 (np.where(stay_canceled['stay_nights'] > 3, 'Mid', 'Short')))"
      ],
      "metadata": {
        "id": "u_IOdqBDfLit"
      },
      "execution_count": 4,
      "outputs": []
    },
    {
      "cell_type": "markdown",
      "source": [
        "## Grouped dataframe"
      ],
      "metadata": {
        "id": "KxmRaWoXpZZT"
      }
    },
    {
      "cell_type": "code",
      "source": [
        "#Non_canceled\n",
        "stay_non_canceled_group = stay_non_canceled.groupby(['hotel', 'stay_category']).agg({'stay_category':'count'})\n",
        "stay_non_canceled_group.columns = ['total_category']\n",
        "stay_non_canceled_group = stay_non_canceled_group.reset_index()\n",
        "stay_non_canceled_group['canceled'] = 'No'\n",
        "\n",
        "#Canceled\n",
        "stay_canceled_group = stay_canceled.groupby(['hotel', 'stay_category']).agg({'stay_category': 'count'})\n",
        "stay_canceled_group.columns = ['total_category']\n",
        "stay_canceled_group = stay_canceled_group.reset_index()\n",
        "stay_canceled_group['canceled'] = 'Yes'\n",
        "\n",
        "#Append dataframe\n",
        "stay_duration = stay_non_canceled_group.append(stay_canceled_group)\n",
        "stay_duration = stay_duration.sort_values('hotel', ignore_index=True)\n",
        "stay_duration"
      ],
      "metadata": {
        "colab": {
          "base_uri": "https://localhost:8080/",
          "height": 425
        },
        "id": "c148RLH3hEvm",
        "outputId": "67170f8e-ada8-4588-b57c-1d2c0c7c6eec"
      },
      "execution_count": 5,
      "outputs": [
        {
          "output_type": "execute_result",
          "data": {
            "text/plain": [
              "           hotel stay_category  total_category canceled\n",
              "0     City Hotel          Long             545       No\n",
              "1     City Hotel           Mid           11526       No\n",
              "2     City Hotel         Short           24650       No\n",
              "3     City Hotel          Long             273      Yes\n",
              "4     City Hotel           Mid            5984      Yes\n",
              "5     City Hotel         Short            9597      Yes\n",
              "6   Resort Hotel          Long            2655       No\n",
              "7   Resort Hotel           Mid            9757       No\n",
              "8   Resort Hotel         Short           13260       No\n",
              "9   Resort Hotel          Long             368      Yes\n",
              "10  Resort Hotel           Mid            4571      Yes\n",
              "11  Resort Hotel         Short            2943      Yes"
            ],
            "text/html": [
              "\n",
              "  <div id=\"df-a72228d0-adfb-465b-8fd8-a7c16f83f659\">\n",
              "    <div class=\"colab-df-container\">\n",
              "      <div>\n",
              "<style scoped>\n",
              "    .dataframe tbody tr th:only-of-type {\n",
              "        vertical-align: middle;\n",
              "    }\n",
              "\n",
              "    .dataframe tbody tr th {\n",
              "        vertical-align: top;\n",
              "    }\n",
              "\n",
              "    .dataframe thead th {\n",
              "        text-align: right;\n",
              "    }\n",
              "</style>\n",
              "<table border=\"1\" class=\"dataframe\">\n",
              "  <thead>\n",
              "    <tr style=\"text-align: right;\">\n",
              "      <th></th>\n",
              "      <th>hotel</th>\n",
              "      <th>stay_category</th>\n",
              "      <th>total_category</th>\n",
              "      <th>canceled</th>\n",
              "    </tr>\n",
              "  </thead>\n",
              "  <tbody>\n",
              "    <tr>\n",
              "      <th>0</th>\n",
              "      <td>City Hotel</td>\n",
              "      <td>Long</td>\n",
              "      <td>545</td>\n",
              "      <td>No</td>\n",
              "    </tr>\n",
              "    <tr>\n",
              "      <th>1</th>\n",
              "      <td>City Hotel</td>\n",
              "      <td>Mid</td>\n",
              "      <td>11526</td>\n",
              "      <td>No</td>\n",
              "    </tr>\n",
              "    <tr>\n",
              "      <th>2</th>\n",
              "      <td>City Hotel</td>\n",
              "      <td>Short</td>\n",
              "      <td>24650</td>\n",
              "      <td>No</td>\n",
              "    </tr>\n",
              "    <tr>\n",
              "      <th>3</th>\n",
              "      <td>City Hotel</td>\n",
              "      <td>Long</td>\n",
              "      <td>273</td>\n",
              "      <td>Yes</td>\n",
              "    </tr>\n",
              "    <tr>\n",
              "      <th>4</th>\n",
              "      <td>City Hotel</td>\n",
              "      <td>Mid</td>\n",
              "      <td>5984</td>\n",
              "      <td>Yes</td>\n",
              "    </tr>\n",
              "    <tr>\n",
              "      <th>5</th>\n",
              "      <td>City Hotel</td>\n",
              "      <td>Short</td>\n",
              "      <td>9597</td>\n",
              "      <td>Yes</td>\n",
              "    </tr>\n",
              "    <tr>\n",
              "      <th>6</th>\n",
              "      <td>Resort Hotel</td>\n",
              "      <td>Long</td>\n",
              "      <td>2655</td>\n",
              "      <td>No</td>\n",
              "    </tr>\n",
              "    <tr>\n",
              "      <th>7</th>\n",
              "      <td>Resort Hotel</td>\n",
              "      <td>Mid</td>\n",
              "      <td>9757</td>\n",
              "      <td>No</td>\n",
              "    </tr>\n",
              "    <tr>\n",
              "      <th>8</th>\n",
              "      <td>Resort Hotel</td>\n",
              "      <td>Short</td>\n",
              "      <td>13260</td>\n",
              "      <td>No</td>\n",
              "    </tr>\n",
              "    <tr>\n",
              "      <th>9</th>\n",
              "      <td>Resort Hotel</td>\n",
              "      <td>Long</td>\n",
              "      <td>368</td>\n",
              "      <td>Yes</td>\n",
              "    </tr>\n",
              "    <tr>\n",
              "      <th>10</th>\n",
              "      <td>Resort Hotel</td>\n",
              "      <td>Mid</td>\n",
              "      <td>4571</td>\n",
              "      <td>Yes</td>\n",
              "    </tr>\n",
              "    <tr>\n",
              "      <th>11</th>\n",
              "      <td>Resort Hotel</td>\n",
              "      <td>Short</td>\n",
              "      <td>2943</td>\n",
              "      <td>Yes</td>\n",
              "    </tr>\n",
              "  </tbody>\n",
              "</table>\n",
              "</div>\n",
              "      <button class=\"colab-df-convert\" onclick=\"convertToInteractive('df-a72228d0-adfb-465b-8fd8-a7c16f83f659')\"\n",
              "              title=\"Convert this dataframe to an interactive table.\"\n",
              "              style=\"display:none;\">\n",
              "        \n",
              "  <svg xmlns=\"http://www.w3.org/2000/svg\" height=\"24px\"viewBox=\"0 0 24 24\"\n",
              "       width=\"24px\">\n",
              "    <path d=\"M0 0h24v24H0V0z\" fill=\"none\"/>\n",
              "    <path d=\"M18.56 5.44l.94 2.06.94-2.06 2.06-.94-2.06-.94-.94-2.06-.94 2.06-2.06.94zm-11 1L8.5 8.5l.94-2.06 2.06-.94-2.06-.94L8.5 2.5l-.94 2.06-2.06.94zm10 10l.94 2.06.94-2.06 2.06-.94-2.06-.94-.94-2.06-.94 2.06-2.06.94z\"/><path d=\"M17.41 7.96l-1.37-1.37c-.4-.4-.92-.59-1.43-.59-.52 0-1.04.2-1.43.59L10.3 9.45l-7.72 7.72c-.78.78-.78 2.05 0 2.83L4 21.41c.39.39.9.59 1.41.59.51 0 1.02-.2 1.41-.59l7.78-7.78 2.81-2.81c.8-.78.8-2.07 0-2.86zM5.41 20L4 18.59l7.72-7.72 1.47 1.35L5.41 20z\"/>\n",
              "  </svg>\n",
              "      </button>\n",
              "      \n",
              "  <style>\n",
              "    .colab-df-container {\n",
              "      display:flex;\n",
              "      flex-wrap:wrap;\n",
              "      gap: 12px;\n",
              "    }\n",
              "\n",
              "    .colab-df-convert {\n",
              "      background-color: #E8F0FE;\n",
              "      border: none;\n",
              "      border-radius: 50%;\n",
              "      cursor: pointer;\n",
              "      display: none;\n",
              "      fill: #1967D2;\n",
              "      height: 32px;\n",
              "      padding: 0 0 0 0;\n",
              "      width: 32px;\n",
              "    }\n",
              "\n",
              "    .colab-df-convert:hover {\n",
              "      background-color: #E2EBFA;\n",
              "      box-shadow: 0px 1px 2px rgba(60, 64, 67, 0.3), 0px 1px 3px 1px rgba(60, 64, 67, 0.15);\n",
              "      fill: #174EA6;\n",
              "    }\n",
              "\n",
              "    [theme=dark] .colab-df-convert {\n",
              "      background-color: #3B4455;\n",
              "      fill: #D2E3FC;\n",
              "    }\n",
              "\n",
              "    [theme=dark] .colab-df-convert:hover {\n",
              "      background-color: #434B5C;\n",
              "      box-shadow: 0px 1px 3px 1px rgba(0, 0, 0, 0.15);\n",
              "      filter: drop-shadow(0px 1px 2px rgba(0, 0, 0, 0.3));\n",
              "      fill: #FFFFFF;\n",
              "    }\n",
              "  </style>\n",
              "\n",
              "      <script>\n",
              "        const buttonEl =\n",
              "          document.querySelector('#df-a72228d0-adfb-465b-8fd8-a7c16f83f659 button.colab-df-convert');\n",
              "        buttonEl.style.display =\n",
              "          google.colab.kernel.accessAllowed ? 'block' : 'none';\n",
              "\n",
              "        async function convertToInteractive(key) {\n",
              "          const element = document.querySelector('#df-a72228d0-adfb-465b-8fd8-a7c16f83f659');\n",
              "          const dataTable =\n",
              "            await google.colab.kernel.invokeFunction('convertToInteractive',\n",
              "                                                     [key], {});\n",
              "          if (!dataTable) return;\n",
              "\n",
              "          const docLinkHtml = 'Like what you see? Visit the ' +\n",
              "            '<a target=\"_blank\" href=https://colab.research.google.com/notebooks/data_table.ipynb>data table notebook</a>'\n",
              "            + ' to learn more about interactive tables.';\n",
              "          element.innerHTML = '';\n",
              "          dataTable['output_type'] = 'display_data';\n",
              "          await google.colab.output.renderOutput(dataTable, element);\n",
              "          const docLink = document.createElement('div');\n",
              "          docLink.innerHTML = docLinkHtml;\n",
              "          element.appendChild(docLink);\n",
              "        }\n",
              "      </script>\n",
              "    </div>\n",
              "  </div>\n",
              "  "
            ]
          },
          "metadata": {},
          "execution_count": 5
        }
      ]
    },
    {
      "cell_type": "code",
      "source": [
        "# #Export dataframe\n",
        "stay_duration.to_csv('stay_duration.csv', index=False)"
      ],
      "metadata": {
        "id": "YdteS4Vf3DIB"
      },
      "execution_count": 6,
      "outputs": []
    },
    {
      "cell_type": "markdown",
      "source": [
        "## Cancel vs Valid Bookings"
      ],
      "metadata": {
        "id": "47HF4jt52zP2"
      }
    },
    {
      "cell_type": "code",
      "source": [
        "cancel_percentage = stay_duration.groupby('canceled').agg({'total_category':'sum'}).reset_index()\n",
        "\n",
        "plt.figure(figsize=(6,6))\n",
        "plt.pie(cancel_percentage.total_category, labels = cancel_percentage.canceled,\n",
        "        autopct='%.2f%%', colors=['saddlebrown', 'navajowhite'])\n",
        "plt.title('Cancel vs Valid Bookings')\n",
        "plt.show()"
      ],
      "metadata": {
        "colab": {
          "base_uri": "https://localhost:8080/",
          "height": 373
        },
        "id": "bdxBYYLDpjdR",
        "outputId": "b0d9781e-052e-4626-e11e-07ed64ff0820"
      },
      "execution_count": 7,
      "outputs": [
        {
          "output_type": "display_data",
          "data": {
            "text/plain": [
              "<Figure size 432x432 with 1 Axes>"
            ],
            "image/png": "[encoded data removed]"
          },
          "metadata": {}
        }
      ]
    },
    {
      "cell_type": "markdown",
      "source": [
        "## Cancellation Rate on Hotel Type"
      ],
      "metadata": {
        "id": "XjROOZQa5XZW"
      }
    },
    {
      "cell_type": "code",
      "source": [
        "plt.figure(figsize=(6,6))\n",
        "cancel_hotel_type = stay_duration.groupby(['hotel', 'canceled']).agg({'total_category':'sum'}).reset_index()\n",
        "sns.barplot(data=cancel_hotel_type, x='canceled', y='total_category', hue='hotel', palette='YlOrBr')\n",
        "plt.title('Cancellation Rate on Hotel Type')\n",
        "plt.show()"
      ],
      "metadata": {
        "colab": {
          "base_uri": "https://localhost:8080/",
          "height": 404
        },
        "id": "6Y8lrUch42WW",
        "outputId": "cd616292-07c0-4690-a88d-a427871e2b3b"
      },
      "execution_count": 8,
      "outputs": [
        {
          "output_type": "display_data",
          "data": {
            "text/plain": [
              "<Figure size 432x432 with 1 Axes>"
            ],
            "image/png": "[encoded data removed]"
          },
          "metadata": {
            "needs_background": "light"
          }
        }
      ]
    },
    {
      "cell_type": "markdown",
      "source": [
        "## Stay Duration Cancellation Rate by Hotel"
      ],
      "metadata": {
        "id": "GX9Ufyzh8BkQ"
      }
    },
    {
      "cell_type": "code",
      "source": [
        "fig, ax = plt.subplots(1,2, figsize=(8,8), sharey=True)\n",
        "sns.barplot(data=stay_duration[0:6], x='stay_category', y='total_category', hue='canceled', palette='YlOrBr', ax=ax[0])\n",
        "sns.barplot(data=stay_duration[6:], x='stay_category', y='total_category', hue='canceled', palette='YlOrBr', ax=ax[1])\n",
        "ax[0].set_title('City Hotel')\n",
        "ax[1].set_title('Resort Hotel')\n",
        "plt.tight_layout()\n",
        "plt.show()\n"
      ],
      "metadata": {
        "colab": {
          "base_uri": "https://localhost:8080/",
          "height": 585
        },
        "id": "TKCiWqTZ-kDj",
        "outputId": "6e24cd0b-530a-4e20-cf31-a7f0f67e6807"
      },
      "execution_count": 9,
      "outputs": [
        {
          "output_type": "display_data",
          "data": {
            "text/plain": [
              "<Figure size 576x576 with 2 Axes>"
            ],
            "image/png": "[encoded data removed]"
          },
          "metadata": {
            "needs_background": "light"
          }
        }
      ]
    }
  ]
}
