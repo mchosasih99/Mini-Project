{
  "nbformat": 4,
  "nbformat_minor": 0,
  "metadata": {
    "colab": {
      "name": "Customer Click (Data Cleaning).ipynb",
      "provenance": [],
      "toc_visible": true
    },
    "kernelspec": {
      "name": "python3",
      "display_name": "Python 3"
    },
    "language_info": {
      "name": "python"
    }
  },
  "cells": [
    {
      "cell_type": "markdown",
      "source": [
        "# Data Cleaning"
      ],
      "metadata": {
        "id": "HkITfDCHzJM-"
      }
    },
    {
      "cell_type": "code",
      "execution_count": 1,
      "metadata": {
        "id": "YlUMc9mwzJNB"
      },
      "outputs": [],
      "source": [
        "import pandas as pd\n",
        "import numpy as np\n",
        "import seaborn as sns\n",
        "import matplotlib.pyplot as plt\n",
        "import warnings\n",
        "import matplotlib\n",
        "\n",
        "pd.set_option('display.max_columns', None)\n",
        "sns.set_style('whitegrid')\n",
        "warnings.filterwarnings('ignore')\n",
        "pal =  ['#FEEFE5', '#F8C8B0', '#E45011', '#87280E','#0F0608']\n",
        "\n",
        "df = pd.read_csv('https://raw.githubusercontent.com/mchosasih99/dataset/main/Clicked%20Ads%20Dataset.csv')"
      ]
    },
    {
      "cell_type": "code",
      "source": [
        "df.info()"
      ],
      "metadata": {
        "colab": {
          "base_uri": "https://localhost:8080/"
        },
        "outputId": "87b85f57-30a3-476a-c085-51d6d66392a4",
        "id": "h8893QJ7zJNC"
      },
      "execution_count": 2,
      "outputs": [
        {
          "output_type": "stream",
          "name": "stdout",
          "text": [
            "<class 'pandas.core.frame.DataFrame'>\n",
            "RangeIndex: 1000 entries, 0 to 999\n",
            "Data columns (total 11 columns):\n",
            " #   Column                    Non-Null Count  Dtype  \n",
            "---  ------                    --------------  -----  \n",
            " 0   Unnamed: 0                1000 non-null   int64  \n",
            " 1   Daily Time Spent on Site  987 non-null    float64\n",
            " 2   Age                       1000 non-null   int64  \n",
            " 3   Area Income               987 non-null    float64\n",
            " 4   Daily Internet Usage      989 non-null    float64\n",
            " 5   Male                      997 non-null    object \n",
            " 6   Timestamp                 1000 non-null   object \n",
            " 7   Clicked on Ad             1000 non-null   object \n",
            " 8   city                      1000 non-null   object \n",
            " 9   province                  1000 non-null   object \n",
            " 10  category                  1000 non-null   object \n",
            "dtypes: float64(3), int64(2), object(6)\n",
            "memory usage: 86.1+ KB\n"
          ]
        }
      ]
    },
    {
      "cell_type": "code",
      "source": [
        "df.describe()"
      ],
      "metadata": {
        "colab": {
          "base_uri": "https://localhost:8080/",
          "height": 300
        },
        "outputId": "4eaa9124-9447-45e5-9724-1e3f088c10b1",
        "id": "DFHUMRG7zJND"
      },
      "execution_count": 3,
      "outputs": [
        {
          "output_type": "execute_result",
          "data": {
            "text/plain": [
              "        Unnamed: 0  Daily Time Spent on Site          Age   Area Income  \\\n",
              "count  1000.000000                987.000000  1000.000000  9.870000e+02   \n",
              "mean    499.500000                 64.929524    36.009000  3.848647e+08   \n",
              "std     288.819436                 15.844699     8.785562  9.407999e+07   \n",
              "min       0.000000                 32.600000    19.000000  9.797550e+07   \n",
              "25%     249.750000                 51.270000    29.000000  3.286330e+08   \n",
              "50%     499.500000                 68.110000    35.000000  3.990683e+08   \n",
              "75%     749.250000                 78.460000    42.000000  4.583554e+08   \n",
              "max     999.000000                 91.430000    61.000000  5.563936e+08   \n",
              "\n",
              "       Daily Internet Usage  \n",
              "count            989.000000  \n",
              "mean             179.863620  \n",
              "std               43.870142  \n",
              "min              104.780000  \n",
              "25%              138.710000  \n",
              "50%              182.650000  \n",
              "75%              218.790000  \n",
              "max              267.010000  "
            ],
            "text/html": [
              "\n",
              "  <div id=\"df-a35f6aee-9bfc-402d-88f1-10c4f2ae7195\">\n",
              "    <div class=\"colab-df-container\">\n",
              "      <div>\n",
              "<style scoped>\n",
              "    .dataframe tbody tr th:only-of-type {\n",
              "        vertical-align: middle;\n",
              "    }\n",
              "\n",
              "    .dataframe tbody tr th {\n",
              "        vertical-align: top;\n",
              "    }\n",
              "\n",
              "    .dataframe thead th {\n",
              "        text-align: right;\n",
              "    }\n",
              "</style>\n",
              "<table border=\"1\" class=\"dataframe\">\n",
              "  <thead>\n",
              "    <tr style=\"text-align: right;\">\n",
              "      <th></th>\n",
              "      <th>Unnamed: 0</th>\n",
              "      <th>Daily Time Spent on Site</th>\n",
              "      <th>Age</th>\n",
              "      <th>Area Income</th>\n",
              "      <th>Daily Internet Usage</th>\n",
              "    </tr>\n",
              "  </thead>\n",
              "  <tbody>\n",
              "    <tr>\n",
              "      <th>count</th>\n",
              "      <td>1000.000000</td>\n",
              "      <td>987.000000</td>\n",
              "      <td>1000.000000</td>\n",
              "      <td>9.870000e+02</td>\n",
              "      <td>989.000000</td>\n",
              "    </tr>\n",
              "    <tr>\n",
              "      <th>mean</th>\n",
              "      <td>499.500000</td>\n",
              "      <td>64.929524</td>\n",
              "      <td>36.009000</td>\n",
              "      <td>3.848647e+08</td>\n",
              "      <td>179.863620</td>\n",
              "    </tr>\n",
              "    <tr>\n",
              "      <th>std</th>\n",
              "      <td>288.819436</td>\n",
              "      <td>15.844699</td>\n",
              "      <td>8.785562</td>\n",
              "      <td>9.407999e+07</td>\n",
              "      <td>43.870142</td>\n",
              "    </tr>\n",
              "    <tr>\n",
              "      <th>min</th>\n",
              "      <td>0.000000</td>\n",
              "      <td>32.600000</td>\n",
              "      <td>19.000000</td>\n",
              "      <td>9.797550e+07</td>\n",
              "      <td>104.780000</td>\n",
              "    </tr>\n",
              "    <tr>\n",
              "      <th>25%</th>\n",
              "      <td>249.750000</td>\n",
              "      <td>51.270000</td>\n",
              "      <td>29.000000</td>\n",
              "      <td>3.286330e+08</td>\n",
              "      <td>138.710000</td>\n",
              "    </tr>\n",
              "    <tr>\n",
              "      <th>50%</th>\n",
              "      <td>499.500000</td>\n",
              "      <td>68.110000</td>\n",
              "      <td>35.000000</td>\n",
              "      <td>3.990683e+08</td>\n",
              "      <td>182.650000</td>\n",
              "    </tr>\n",
              "    <tr>\n",
              "      <th>75%</th>\n",
              "      <td>749.250000</td>\n",
              "      <td>78.460000</td>\n",
              "      <td>42.000000</td>\n",
              "      <td>4.583554e+08</td>\n",
              "      <td>218.790000</td>\n",
              "    </tr>\n",
              "    <tr>\n",
              "      <th>max</th>\n",
              "      <td>999.000000</td>\n",
              "      <td>91.430000</td>\n",
              "      <td>61.000000</td>\n",
              "      <td>5.563936e+08</td>\n",
              "      <td>267.010000</td>\n",
              "    </tr>\n",
              "  </tbody>\n",
              "</table>\n",
              "</div>\n",
              "      <button class=\"colab-df-convert\" onclick=\"convertToInteractive('df-a35f6aee-9bfc-402d-88f1-10c4f2ae7195')\"\n",
              "              title=\"Convert this dataframe to an interactive table.\"\n",
              "              style=\"display:none;\">\n",
              "        \n",
              "  <svg xmlns=\"http://www.w3.org/2000/svg\" height=\"24px\"viewBox=\"0 0 24 24\"\n",
              "       width=\"24px\">\n",
              "    <path d=\"M0 0h24v24H0V0z\" fill=\"none\"/>\n",
              "    <path d=\"M18.56 5.44l.94 2.06.94-2.06 2.06-.94-2.06-.94-.94-2.06-.94 2.06-2.06.94zm-11 1L8.5 8.5l.94-2.06 2.06-.94-2.06-.94L8.5 2.5l-.94 2.06-2.06.94zm10 10l.94 2.06.94-2.06 2.06-.94-2.06-.94-.94-2.06-.94 2.06-2.06.94z\"/><path d=\"M17.41 7.96l-1.37-1.37c-.4-.4-.92-.59-1.43-.59-.52 0-1.04.2-1.43.59L10.3 9.45l-7.72 7.72c-.78.78-.78 2.05 0 2.83L4 21.41c.39.39.9.59 1.41.59.51 0 1.02-.2 1.41-.59l7.78-7.78 2.81-2.81c.8-.78.8-2.07 0-2.86zM5.41 20L4 18.59l7.72-7.72 1.47 1.35L5.41 20z\"/>\n",
              "  </svg>\n",
              "      </button>\n",
              "      \n",
              "  <style>\n",
              "    .colab-df-container {\n",
              "      display:flex;\n",
              "      flex-wrap:wrap;\n",
              "      gap: 12px;\n",
              "    }\n",
              "\n",
              "    .colab-df-convert {\n",
              "      background-color: #E8F0FE;\n",
              "      border: none;\n",
              "      border-radius: 50%;\n",
              "      cursor: pointer;\n",
              "      display: none;\n",
              "      fill: #1967D2;\n",
              "      height: 32px;\n",
              "      padding: 0 0 0 0;\n",
              "      width: 32px;\n",
              "    }\n",
              "\n",
              "    .colab-df-convert:hover {\n",
              "      background-color: #E2EBFA;\n",
              "      box-shadow: 0px 1px 2px rgba(60, 64, 67, 0.3), 0px 1px 3px 1px rgba(60, 64, 67, 0.15);\n",
              "      fill: #174EA6;\n",
              "    }\n",
              "\n",
              "    [theme=dark] .colab-df-convert {\n",
              "      background-color: #3B4455;\n",
              "      fill: #D2E3FC;\n",
              "    }\n",
              "\n",
              "    [theme=dark] .colab-df-convert:hover {\n",
              "      background-color: #434B5C;\n",
              "      box-shadow: 0px 1px 3px 1px rgba(0, 0, 0, 0.15);\n",
              "      filter: drop-shadow(0px 1px 2px rgba(0, 0, 0, 0.3));\n",
              "      fill: #FFFFFF;\n",
              "    }\n",
              "  </style>\n",
              "\n",
              "      <script>\n",
              "        const buttonEl =\n",
              "          document.querySelector('#df-a35f6aee-9bfc-402d-88f1-10c4f2ae7195 button.colab-df-convert');\n",
              "        buttonEl.style.display =\n",
              "          google.colab.kernel.accessAllowed ? 'block' : 'none';\n",
              "\n",
              "        async function convertToInteractive(key) {\n",
              "          const element = document.querySelector('#df-a35f6aee-9bfc-402d-88f1-10c4f2ae7195');\n",
              "          const dataTable =\n",
              "            await google.colab.kernel.invokeFunction('convertToInteractive',\n",
              "                                                     [key], {});\n",
              "          if (!dataTable) return;\n",
              "\n",
              "          const docLinkHtml = 'Like what you see? Visit the ' +\n",
              "            '<a target=\"_blank\" href=https://colab.research.google.com/notebooks/data_table.ipynb>data table notebook</a>'\n",
              "            + ' to learn more about interactive tables.';\n",
              "          element.innerHTML = '';\n",
              "          dataTable['output_type'] = 'display_data';\n",
              "          await google.colab.output.renderOutput(dataTable, element);\n",
              "          const docLink = document.createElement('div');\n",
              "          docLink.innerHTML = docLinkHtml;\n",
              "          element.appendChild(docLink);\n",
              "        }\n",
              "      </script>\n",
              "    </div>\n",
              "  </div>\n",
              "  "
            ]
          },
          "metadata": {},
          "execution_count": 3
        }
      ]
    },
    {
      "cell_type": "code",
      "source": [
        "df.describe(include='object')"
      ],
      "metadata": {
        "colab": {
          "base_uri": "https://localhost:8080/",
          "height": 175
        },
        "outputId": "9c9f3a49-90c5-4910-f782-878a115c73bf",
        "id": "bKiYwdajzJNE"
      },
      "execution_count": 4,
      "outputs": [
        {
          "output_type": "execute_result",
          "data": {
            "text/plain": [
              "             Male        Timestamp Clicked on Ad      city  \\\n",
              "count         997             1000          1000      1000   \n",
              "unique          2              997             2        30   \n",
              "top     Perempuan  5/26/2016 15:40            No  Surabaya   \n",
              "freq          518                2           500        64   \n",
              "\n",
              "                             province  category  \n",
              "count                            1000      1000  \n",
              "unique                             16        10  \n",
              "top     Daerah Khusus Ibukota Jakarta  Otomotif  \n",
              "freq                              253       112  "
            ],
            "text/html": [
              "\n",
              "  <div id=\"df-1cea2196-d3fe-45e7-a1fe-3dad9ef7a949\">\n",
              "    <div class=\"colab-df-container\">\n",
              "      <div>\n",
              "<style scoped>\n",
              "    .dataframe tbody tr th:only-of-type {\n",
              "        vertical-align: middle;\n",
              "    }\n",
              "\n",
              "    .dataframe tbody tr th {\n",
              "        vertical-align: top;\n",
              "    }\n",
              "\n",
              "    .dataframe thead th {\n",
              "        text-align: right;\n",
              "    }\n",
              "</style>\n",
              "<table border=\"1\" class=\"dataframe\">\n",
              "  <thead>\n",
              "    <tr style=\"text-align: right;\">\n",
              "      <th></th>\n",
              "      <th>Male</th>\n",
              "      <th>Timestamp</th>\n",
              "      <th>Clicked on Ad</th>\n",
              "      <th>city</th>\n",
              "      <th>province</th>\n",
              "      <th>category</th>\n",
              "    </tr>\n",
              "  </thead>\n",
              "  <tbody>\n",
              "    <tr>\n",
              "      <th>count</th>\n",
              "      <td>997</td>\n",
              "      <td>1000</td>\n",
              "      <td>1000</td>\n",
              "      <td>1000</td>\n",
              "      <td>1000</td>\n",
              "      <td>1000</td>\n",
              "    </tr>\n",
              "    <tr>\n",
              "      <th>unique</th>\n",
              "      <td>2</td>\n",
              "      <td>997</td>\n",
              "      <td>2</td>\n",
              "      <td>30</td>\n",
              "      <td>16</td>\n",
              "      <td>10</td>\n",
              "    </tr>\n",
              "    <tr>\n",
              "      <th>top</th>\n",
              "      <td>Perempuan</td>\n",
              "      <td>5/26/2016 15:40</td>\n",
              "      <td>No</td>\n",
              "      <td>Surabaya</td>\n",
              "      <td>Daerah Khusus Ibukota Jakarta</td>\n",
              "      <td>Otomotif</td>\n",
              "    </tr>\n",
              "    <tr>\n",
              "      <th>freq</th>\n",
              "      <td>518</td>\n",
              "      <td>2</td>\n",
              "      <td>500</td>\n",
              "      <td>64</td>\n",
              "      <td>253</td>\n",
              "      <td>112</td>\n",
              "    </tr>\n",
              "  </tbody>\n",
              "</table>\n",
              "</div>\n",
              "      <button class=\"colab-df-convert\" onclick=\"convertToInteractive('df-1cea2196-d3fe-45e7-a1fe-3dad9ef7a949')\"\n",
              "              title=\"Convert this dataframe to an interactive table.\"\n",
              "              style=\"display:none;\">\n",
              "        \n",
              "  <svg xmlns=\"http://www.w3.org/2000/svg\" height=\"24px\"viewBox=\"0 0 24 24\"\n",
              "       width=\"24px\">\n",
              "    <path d=\"M0 0h24v24H0V0z\" fill=\"none\"/>\n",
              "    <path d=\"M18.56 5.44l.94 2.06.94-2.06 2.06-.94-2.06-.94-.94-2.06-.94 2.06-2.06.94zm-11 1L8.5 8.5l.94-2.06 2.06-.94-2.06-.94L8.5 2.5l-.94 2.06-2.06.94zm10 10l.94 2.06.94-2.06 2.06-.94-2.06-.94-.94-2.06-.94 2.06-2.06.94z\"/><path d=\"M17.41 7.96l-1.37-1.37c-.4-.4-.92-.59-1.43-.59-.52 0-1.04.2-1.43.59L10.3 9.45l-7.72 7.72c-.78.78-.78 2.05 0 2.83L4 21.41c.39.39.9.59 1.41.59.51 0 1.02-.2 1.41-.59l7.78-7.78 2.81-2.81c.8-.78.8-2.07 0-2.86zM5.41 20L4 18.59l7.72-7.72 1.47 1.35L5.41 20z\"/>\n",
              "  </svg>\n",
              "      </button>\n",
              "      \n",
              "  <style>\n",
              "    .colab-df-container {\n",
              "      display:flex;\n",
              "      flex-wrap:wrap;\n",
              "      gap: 12px;\n",
              "    }\n",
              "\n",
              "    .colab-df-convert {\n",
              "      background-color: #E8F0FE;\n",
              "      border: none;\n",
              "      border-radius: 50%;\n",
              "      cursor: pointer;\n",
              "      display: none;\n",
              "      fill: #1967D2;\n",
              "      height: 32px;\n",
              "      padding: 0 0 0 0;\n",
              "      width: 32px;\n",
              "    }\n",
              "\n",
              "    .colab-df-convert:hover {\n",
              "      background-color: #E2EBFA;\n",
              "      box-shadow: 0px 1px 2px rgba(60, 64, 67, 0.3), 0px 1px 3px 1px rgba(60, 64, 67, 0.15);\n",
              "      fill: #174EA6;\n",
              "    }\n",
              "\n",
              "    [theme=dark] .colab-df-convert {\n",
              "      background-color: #3B4455;\n",
              "      fill: #D2E3FC;\n",
              "    }\n",
              "\n",
              "    [theme=dark] .colab-df-convert:hover {\n",
              "      background-color: #434B5C;\n",
              "      box-shadow: 0px 1px 3px 1px rgba(0, 0, 0, 0.15);\n",
              "      filter: drop-shadow(0px 1px 2px rgba(0, 0, 0, 0.3));\n",
              "      fill: #FFFFFF;\n",
              "    }\n",
              "  </style>\n",
              "\n",
              "      <script>\n",
              "        const buttonEl =\n",
              "          document.querySelector('#df-1cea2196-d3fe-45e7-a1fe-3dad9ef7a949 button.colab-df-convert');\n",
              "        buttonEl.style.display =\n",
              "          google.colab.kernel.accessAllowed ? 'block' : 'none';\n",
              "\n",
              "        async function convertToInteractive(key) {\n",
              "          const element = document.querySelector('#df-1cea2196-d3fe-45e7-a1fe-3dad9ef7a949');\n",
              "          const dataTable =\n",
              "            await google.colab.kernel.invokeFunction('convertToInteractive',\n",
              "                                                     [key], {});\n",
              "          if (!dataTable) return;\n",
              "\n",
              "          const docLinkHtml = 'Like what you see? Visit the ' +\n",
              "            '<a target=\"_blank\" href=https://colab.research.google.com/notebooks/data_table.ipynb>data table notebook</a>'\n",
              "            + ' to learn more about interactive tables.';\n",
              "          element.innerHTML = '';\n",
              "          dataTable['output_type'] = 'display_data';\n",
              "          await google.colab.output.renderOutput(dataTable, element);\n",
              "          const docLink = document.createElement('div');\n",
              "          docLink.innerHTML = docLinkHtml;\n",
              "          element.appendChild(docLink);\n",
              "        }\n",
              "      </script>\n",
              "    </div>\n",
              "  </div>\n",
              "  "
            ]
          },
          "metadata": {},
          "execution_count": 4
        }
      ]
    },
    {
      "cell_type": "code",
      "source": [
        "df.head()"
      ],
      "metadata": {
        "colab": {
          "base_uri": "https://localhost:8080/",
          "height": 206
        },
        "outputId": "5d618eb6-b437-4049-f60e-9358446ce323",
        "id": "4GxhrWadzJNF"
      },
      "execution_count": 5,
      "outputs": [
        {
          "output_type": "execute_result",
          "data": {
            "text/plain": [
              "   Unnamed: 0  Daily Time Spent on Site  Age  Area Income  \\\n",
              "0           0                     68.95   35  432837300.0   \n",
              "1           1                     80.23   31  479092950.0   \n",
              "2           2                     69.47   26  418501580.0   \n",
              "3           3                     74.15   29  383643260.0   \n",
              "4           4                     68.37   35  517229930.0   \n",
              "\n",
              "   Daily Internet Usage       Male        Timestamp Clicked on Ad  \\\n",
              "0                256.09  Perempuan   3/27/2016 0:53            No   \n",
              "1                193.77  Laki-Laki    4/4/2016 1:39            No   \n",
              "2                236.50  Perempuan  3/13/2016 20:35            No   \n",
              "3                245.89  Laki-Laki   1/10/2016 2:31            No   \n",
              "4                225.58  Perempuan    6/3/2016 3:36            No   \n",
              "\n",
              "            city                       province    category  \n",
              "0  Jakarta Timur  Daerah Khusus Ibukota Jakarta   Furniture  \n",
              "1       Denpasar                           Bali        Food  \n",
              "2       Surabaya                     Jawa Timur  Electronic  \n",
              "3          Batam                 Kepulauan Riau       House  \n",
              "4          Medan                  Sumatra Utara     Finance  "
            ],
            "text/html": [
              "\n",
              "  <div id=\"df-763ac5bb-b398-49c5-ac92-d9eb8c400eeb\">\n",
              "    <div class=\"colab-df-container\">\n",
              "      <div>\n",
              "<style scoped>\n",
              "    .dataframe tbody tr th:only-of-type {\n",
              "        vertical-align: middle;\n",
              "    }\n",
              "\n",
              "    .dataframe tbody tr th {\n",
              "        vertical-align: top;\n",
              "    }\n",
              "\n",
              "    .dataframe thead th {\n",
              "        text-align: right;\n",
              "    }\n",
              "</style>\n",
              "<table border=\"1\" class=\"dataframe\">\n",
              "  <thead>\n",
              "    <tr style=\"text-align: right;\">\n",
              "      <th></th>\n",
              "      <th>Unnamed: 0</th>\n",
              "      <th>Daily Time Spent on Site</th>\n",
              "      <th>Age</th>\n",
              "      <th>Area Income</th>\n",
              "      <th>Daily Internet Usage</th>\n",
              "      <th>Male</th>\n",
              "      <th>Timestamp</th>\n",
              "      <th>Clicked on Ad</th>\n",
              "      <th>city</th>\n",
              "      <th>province</th>\n",
              "      <th>category</th>\n",
              "    </tr>\n",
              "  </thead>\n",
              "  <tbody>\n",
              "    <tr>\n",
              "      <th>0</th>\n",
              "      <td>0</td>\n",
              "      <td>68.95</td>\n",
              "      <td>35</td>\n",
              "      <td>432837300.0</td>\n",
              "      <td>256.09</td>\n",
              "      <td>Perempuan</td>\n",
              "      <td>3/27/2016 0:53</td>\n",
              "      <td>No</td>\n",
              "      <td>Jakarta Timur</td>\n",
              "      <td>Daerah Khusus Ibukota Jakarta</td>\n",
              "      <td>Furniture</td>\n",
              "    </tr>\n",
              "    <tr>\n",
              "      <th>1</th>\n",
              "      <td>1</td>\n",
              "      <td>80.23</td>\n",
              "      <td>31</td>\n",
              "      <td>479092950.0</td>\n",
              "      <td>193.77</td>\n",
              "      <td>Laki-Laki</td>\n",
              "      <td>4/4/2016 1:39</td>\n",
              "      <td>No</td>\n",
              "      <td>Denpasar</td>\n",
              "      <td>Bali</td>\n",
              "      <td>Food</td>\n",
              "    </tr>\n",
              "    <tr>\n",
              "      <th>2</th>\n",
              "      <td>2</td>\n",
              "      <td>69.47</td>\n",
              "      <td>26</td>\n",
              "      <td>418501580.0</td>\n",
              "      <td>236.50</td>\n",
              "      <td>Perempuan</td>\n",
              "      <td>3/13/2016 20:35</td>\n",
              "      <td>No</td>\n",
              "      <td>Surabaya</td>\n",
              "      <td>Jawa Timur</td>\n",
              "      <td>Electronic</td>\n",
              "    </tr>\n",
              "    <tr>\n",
              "      <th>3</th>\n",
              "      <td>3</td>\n",
              "      <td>74.15</td>\n",
              "      <td>29</td>\n",
              "      <td>383643260.0</td>\n",
              "      <td>245.89</td>\n",
              "      <td>Laki-Laki</td>\n",
              "      <td>1/10/2016 2:31</td>\n",
              "      <td>No</td>\n",
              "      <td>Batam</td>\n",
              "      <td>Kepulauan Riau</td>\n",
              "      <td>House</td>\n",
              "    </tr>\n",
              "    <tr>\n",
              "      <th>4</th>\n",
              "      <td>4</td>\n",
              "      <td>68.37</td>\n",
              "      <td>35</td>\n",
              "      <td>517229930.0</td>\n",
              "      <td>225.58</td>\n",
              "      <td>Perempuan</td>\n",
              "      <td>6/3/2016 3:36</td>\n",
              "      <td>No</td>\n",
              "      <td>Medan</td>\n",
              "      <td>Sumatra Utara</td>\n",
              "      <td>Finance</td>\n",
              "    </tr>\n",
              "  </tbody>\n",
              "</table>\n",
              "</div>\n",
              "      <button class=\"colab-df-convert\" onclick=\"convertToInteractive('df-763ac5bb-b398-49c5-ac92-d9eb8c400eeb')\"\n",
              "              title=\"Convert this dataframe to an interactive table.\"\n",
              "              style=\"display:none;\">\n",
              "        \n",
              "  <svg xmlns=\"http://www.w3.org/2000/svg\" height=\"24px\"viewBox=\"0 0 24 24\"\n",
              "       width=\"24px\">\n",
              "    <path d=\"M0 0h24v24H0V0z\" fill=\"none\"/>\n",
              "    <path d=\"M18.56 5.44l.94 2.06.94-2.06 2.06-.94-2.06-.94-.94-2.06-.94 2.06-2.06.94zm-11 1L8.5 8.5l.94-2.06 2.06-.94-2.06-.94L8.5 2.5l-.94 2.06-2.06.94zm10 10l.94 2.06.94-2.06 2.06-.94-2.06-.94-.94-2.06-.94 2.06-2.06.94z\"/><path d=\"M17.41 7.96l-1.37-1.37c-.4-.4-.92-.59-1.43-.59-.52 0-1.04.2-1.43.59L10.3 9.45l-7.72 7.72c-.78.78-.78 2.05 0 2.83L4 21.41c.39.39.9.59 1.41.59.51 0 1.02-.2 1.41-.59l7.78-7.78 2.81-2.81c.8-.78.8-2.07 0-2.86zM5.41 20L4 18.59l7.72-7.72 1.47 1.35L5.41 20z\"/>\n",
              "  </svg>\n",
              "      </button>\n",
              "      \n",
              "  <style>\n",
              "    .colab-df-container {\n",
              "      display:flex;\n",
              "      flex-wrap:wrap;\n",
              "      gap: 12px;\n",
              "    }\n",
              "\n",
              "    .colab-df-convert {\n",
              "      background-color: #E8F0FE;\n",
              "      border: none;\n",
              "      border-radius: 50%;\n",
              "      cursor: pointer;\n",
              "      display: none;\n",
              "      fill: #1967D2;\n",
              "      height: 32px;\n",
              "      padding: 0 0 0 0;\n",
              "      width: 32px;\n",
              "    }\n",
              "\n",
              "    .colab-df-convert:hover {\n",
              "      background-color: #E2EBFA;\n",
              "      box-shadow: 0px 1px 2px rgba(60, 64, 67, 0.3), 0px 1px 3px 1px rgba(60, 64, 67, 0.15);\n",
              "      fill: #174EA6;\n",
              "    }\n",
              "\n",
              "    [theme=dark] .colab-df-convert {\n",
              "      background-color: #3B4455;\n",
              "      fill: #D2E3FC;\n",
              "    }\n",
              "\n",
              "    [theme=dark] .colab-df-convert:hover {\n",
              "      background-color: #434B5C;\n",
              "      box-shadow: 0px 1px 3px 1px rgba(0, 0, 0, 0.15);\n",
              "      filter: drop-shadow(0px 1px 2px rgba(0, 0, 0, 0.3));\n",
              "      fill: #FFFFFF;\n",
              "    }\n",
              "  </style>\n",
              "\n",
              "      <script>\n",
              "        const buttonEl =\n",
              "          document.querySelector('#df-763ac5bb-b398-49c5-ac92-d9eb8c400eeb button.colab-df-convert');\n",
              "        buttonEl.style.display =\n",
              "          google.colab.kernel.accessAllowed ? 'block' : 'none';\n",
              "\n",
              "        async function convertToInteractive(key) {\n",
              "          const element = document.querySelector('#df-763ac5bb-b398-49c5-ac92-d9eb8c400eeb');\n",
              "          const dataTable =\n",
              "            await google.colab.kernel.invokeFunction('convertToInteractive',\n",
              "                                                     [key], {});\n",
              "          if (!dataTable) return;\n",
              "\n",
              "          const docLinkHtml = 'Like what you see? Visit the ' +\n",
              "            '<a target=\"_blank\" href=https://colab.research.google.com/notebooks/data_table.ipynb>data table notebook</a>'\n",
              "            + ' to learn more about interactive tables.';\n",
              "          element.innerHTML = '';\n",
              "          dataTable['output_type'] = 'display_data';\n",
              "          await google.colab.output.renderOutput(dataTable, element);\n",
              "          const docLink = document.createElement('div');\n",
              "          docLink.innerHTML = docLinkHtml;\n",
              "          element.appendChild(docLink);\n",
              "        }\n",
              "      </script>\n",
              "    </div>\n",
              "  </div>\n",
              "  "
            ]
          },
          "metadata": {},
          "execution_count": 5
        }
      ]
    },
    {
      "cell_type": "code",
      "source": [
        "# Menghapus kolom\n",
        "df.drop('Unnamed: 0',1,inplace=True)"
      ],
      "metadata": {
        "id": "atq17kwKzJNN"
      },
      "execution_count": 6,
      "outputs": []
    },
    {
      "cell_type": "markdown",
      "source": [
        "## Modifikasi kolom datetime"
      ],
      "metadata": {
        "id": "aoGVVoZqzJNR"
      }
    },
    {
      "cell_type": "code",
      "source": [
        "df['Timestamp'] = pd.to_datetime(df['Timestamp'])\n",
        "\n",
        "df['Date'] = pd.to_datetime(df['Timestamp']).dt.date\n",
        "df['Time'] = pd.to_datetime(df['Timestamp']).dt.time\n",
        "df['hari'] = pd.to_datetime(df['Date']).dt.day\n",
        "df['hari_dalam_minggu'] = pd.to_datetime(df['Date']).dt.day_of_week\n",
        "df['minggu'] = pd.to_datetime(df['Date']).dt.week\n",
        "df['bulan'] = pd.to_datetime(df['Date']).dt.month\n",
        "\n",
        "df.drop(['Timestamp','Date'],1, inplace=True)"
      ],
      "metadata": {
        "id": "YDkfVwpfzJNR"
      },
      "execution_count": 7,
      "outputs": []
    },
    {
      "cell_type": "code",
      "source": [
        "df[['jam','menit','detik']] = df['Time'].astype(str).str.split(':', expand=True)\n",
        "df['jam'] = df['jam'].astype(int)"
      ],
      "metadata": {
        "id": "rgcSOIhDzJNS"
      },
      "execution_count": 8,
      "outputs": []
    },
    {
      "cell_type": "code",
      "source": [
        "#Group Labeling Waktu\n",
        "conditions = [\n",
        "    df['jam'].isin(list(range(0,4))),\n",
        "    df['jam'].isin(list(range(4,11))),\n",
        "    df['jam'].isin(list(range(11,15))),\n",
        "    df['jam'].isin(list(range(15,19))),\n",
        "    df['jam'].isin(list(range(19,25)))\n",
        "]\n",
        "\n",
        "choices = ['malam', 'pagi', 'siang', 'sore', 'malam']\n",
        "\n",
        "df['waktu_iklan'] = np.select(conditions, choices)\n"
      ],
      "metadata": {
        "id": "nZ-d6qBwzJNT"
      },
      "execution_count": 9,
      "outputs": []
    },
    {
      "cell_type": "code",
      "source": [
        "#Menghapus kolom yang tidak perlu\n",
        "df.drop(['jam','detik','menit','Time'], 1,inplace=True)"
      ],
      "metadata": {
        "id": "pdZed8PkzJNT"
      },
      "execution_count": 10,
      "outputs": []
    },
    {
      "cell_type": "markdown",
      "source": [
        "## Mengisi Null Value"
      ],
      "metadata": {
        "id": "7rODBLTYzJNN"
      }
    },
    {
      "cell_type": "code",
      "source": [
        "df['Daily Time Spent on Site'].fillna(df['Daily Time Spent on Site'].mean(),inplace=True)\n",
        "df['Male'].fillna('Perempuan',inplace=True)\n",
        "df['Daily Internet Usage'].fillna(df['Daily Internet Usage'].mean(),inplace=True)"
      ],
      "metadata": {
        "id": "70kJoEGPzJNO"
      },
      "execution_count": 11,
      "outputs": []
    },
    {
      "cell_type": "code",
      "source": [
        "# Mengisi Null Value dengan median tiap city\n",
        "\n",
        "income_median = df.groupby('city').agg({'Area Income':'median'}).reset_index() #Agregasi median income\n",
        "\n",
        "df_null = df[df['Area Income'].isnull()] #Mengambil dataframe null\n",
        "\n",
        "df_fillna = df_null.merge(income_median,\n",
        "                          on='city',\n",
        "                          how='left')\n",
        "df_fillna.drop('Area Income_x',1,inplace=True)\n",
        "df_fillna.rename(columns=({'Area Income_y': 'Area Income'}),inplace=True)\n",
        "df_fillna = df_fillna[list(df.columns)] #Membuat dataframe baru\n",
        "\n",
        "df_clean = df.append(df_fillna) #Append ke dataframe baru\n",
        "df_clean.dropna(inplace=True) #Delete null value\n",
        "df_clean = df_clean.reset_index(drop=True) #Reset index"
      ],
      "metadata": {
        "id": "7vTR5as_zJNP"
      },
      "execution_count": 12,
      "outputs": []
    },
    {
      "cell_type": "code",
      "source": [
        "#Merubah Value Target\n",
        "df_clean['Clicked on Ad'].replace({'Yes':1,'No':0},inplace=True)"
      ],
      "metadata": {
        "id": "b_xW3pkSzJNP"
      },
      "execution_count": 13,
      "outputs": []
    },
    {
      "cell_type": "code",
      "source": [
        "#Merubah nama kolom\n",
        "df_clean.rename(columns={'Male':'jenis_kelamin'},inplace=True)"
      ],
      "metadata": {
        "id": "mXW_M-r0zJNQ"
      },
      "execution_count": 14,
      "outputs": []
    },
    {
      "cell_type": "markdown",
      "source": [
        "# Data Preprocessing"
      ],
      "metadata": {
        "id": "hkji1D-sEThr"
      }
    },
    {
      "cell_type": "markdown",
      "source": [
        "## Feature Encoding"
      ],
      "metadata": {
        "id": "2lcm9_ZA9DlK"
      }
    },
    {
      "cell_type": "code",
      "source": [
        "df_encode = df_clean.copy()"
      ],
      "metadata": {
        "id": "BRk_5BwJ9Yv6"
      },
      "execution_count": 15,
      "outputs": []
    },
    {
      "cell_type": "code",
      "source": [
        "df_encode.describe(include='object')"
      ],
      "metadata": {
        "colab": {
          "base_uri": "https://localhost:8080/",
          "height": 175
        },
        "id": "feUTM5P_DOoj",
        "outputId": "948d7487-50ab-41f6-d679-b8acbdb01941"
      },
      "execution_count": 16,
      "outputs": [
        {
          "output_type": "execute_result",
          "data": {
            "text/plain": [
              "       jenis_kelamin      city                       province  category  \\\n",
              "count           1000      1000                           1000      1000   \n",
              "unique             2        30                             16        10   \n",
              "top        Perempuan  Surabaya  Daerah Khusus Ibukota Jakarta  Otomotif   \n",
              "freq             521        64                            253       112   \n",
              "\n",
              "       waktu_iklan  \n",
              "count         1000  \n",
              "unique           4  \n",
              "top          malam  \n",
              "freq           379  "
            ],
            "text/html": [
              "\n",
              "  <div id=\"df-2477d46c-2faa-43bc-b04e-2293c92a63d8\">\n",
              "    <div class=\"colab-df-container\">\n",
              "      <div>\n",
              "<style scoped>\n",
              "    .dataframe tbody tr th:only-of-type {\n",
              "        vertical-align: middle;\n",
              "    }\n",
              "\n",
              "    .dataframe tbody tr th {\n",
              "        vertical-align: top;\n",
              "    }\n",
              "\n",
              "    .dataframe thead th {\n",
              "        text-align: right;\n",
              "    }\n",
              "</style>\n",
              "<table border=\"1\" class=\"dataframe\">\n",
              "  <thead>\n",
              "    <tr style=\"text-align: right;\">\n",
              "      <th></th>\n",
              "      <th>jenis_kelamin</th>\n",
              "      <th>city</th>\n",
              "      <th>province</th>\n",
              "      <th>category</th>\n",
              "      <th>waktu_iklan</th>\n",
              "    </tr>\n",
              "  </thead>\n",
              "  <tbody>\n",
              "    <tr>\n",
              "      <th>count</th>\n",
              "      <td>1000</td>\n",
              "      <td>1000</td>\n",
              "      <td>1000</td>\n",
              "      <td>1000</td>\n",
              "      <td>1000</td>\n",
              "    </tr>\n",
              "    <tr>\n",
              "      <th>unique</th>\n",
              "      <td>2</td>\n",
              "      <td>30</td>\n",
              "      <td>16</td>\n",
              "      <td>10</td>\n",
              "      <td>4</td>\n",
              "    </tr>\n",
              "    <tr>\n",
              "      <th>top</th>\n",
              "      <td>Perempuan</td>\n",
              "      <td>Surabaya</td>\n",
              "      <td>Daerah Khusus Ibukota Jakarta</td>\n",
              "      <td>Otomotif</td>\n",
              "      <td>malam</td>\n",
              "    </tr>\n",
              "    <tr>\n",
              "      <th>freq</th>\n",
              "      <td>521</td>\n",
              "      <td>64</td>\n",
              "      <td>253</td>\n",
              "      <td>112</td>\n",
              "      <td>379</td>\n",
              "    </tr>\n",
              "  </tbody>\n",
              "</table>\n",
              "</div>\n",
              "      <button class=\"colab-df-convert\" onclick=\"convertToInteractive('df-2477d46c-2faa-43bc-b04e-2293c92a63d8')\"\n",
              "              title=\"Convert this dataframe to an interactive table.\"\n",
              "              style=\"display:none;\">\n",
              "        \n",
              "  <svg xmlns=\"http://www.w3.org/2000/svg\" height=\"24px\"viewBox=\"0 0 24 24\"\n",
              "       width=\"24px\">\n",
              "    <path d=\"M0 0h24v24H0V0z\" fill=\"none\"/>\n",
              "    <path d=\"M18.56 5.44l.94 2.06.94-2.06 2.06-.94-2.06-.94-.94-2.06-.94 2.06-2.06.94zm-11 1L8.5 8.5l.94-2.06 2.06-.94-2.06-.94L8.5 2.5l-.94 2.06-2.06.94zm10 10l.94 2.06.94-2.06 2.06-.94-2.06-.94-.94-2.06-.94 2.06-2.06.94z\"/><path d=\"M17.41 7.96l-1.37-1.37c-.4-.4-.92-.59-1.43-.59-.52 0-1.04.2-1.43.59L10.3 9.45l-7.72 7.72c-.78.78-.78 2.05 0 2.83L4 21.41c.39.39.9.59 1.41.59.51 0 1.02-.2 1.41-.59l7.78-7.78 2.81-2.81c.8-.78.8-2.07 0-2.86zM5.41 20L4 18.59l7.72-7.72 1.47 1.35L5.41 20z\"/>\n",
              "  </svg>\n",
              "      </button>\n",
              "      \n",
              "  <style>\n",
              "    .colab-df-container {\n",
              "      display:flex;\n",
              "      flex-wrap:wrap;\n",
              "      gap: 12px;\n",
              "    }\n",
              "\n",
              "    .colab-df-convert {\n",
              "      background-color: #E8F0FE;\n",
              "      border: none;\n",
              "      border-radius: 50%;\n",
              "      cursor: pointer;\n",
              "      display: none;\n",
              "      fill: #1967D2;\n",
              "      height: 32px;\n",
              "      padding: 0 0 0 0;\n",
              "      width: 32px;\n",
              "    }\n",
              "\n",
              "    .colab-df-convert:hover {\n",
              "      background-color: #E2EBFA;\n",
              "      box-shadow: 0px 1px 2px rgba(60, 64, 67, 0.3), 0px 1px 3px 1px rgba(60, 64, 67, 0.15);\n",
              "      fill: #174EA6;\n",
              "    }\n",
              "\n",
              "    [theme=dark] .colab-df-convert {\n",
              "      background-color: #3B4455;\n",
              "      fill: #D2E3FC;\n",
              "    }\n",
              "\n",
              "    [theme=dark] .colab-df-convert:hover {\n",
              "      background-color: #434B5C;\n",
              "      box-shadow: 0px 1px 3px 1px rgba(0, 0, 0, 0.15);\n",
              "      filter: drop-shadow(0px 1px 2px rgba(0, 0, 0, 0.3));\n",
              "      fill: #FFFFFF;\n",
              "    }\n",
              "  </style>\n",
              "\n",
              "      <script>\n",
              "        const buttonEl =\n",
              "          document.querySelector('#df-2477d46c-2faa-43bc-b04e-2293c92a63d8 button.colab-df-convert');\n",
              "        buttonEl.style.display =\n",
              "          google.colab.kernel.accessAllowed ? 'block' : 'none';\n",
              "\n",
              "        async function convertToInteractive(key) {\n",
              "          const element = document.querySelector('#df-2477d46c-2faa-43bc-b04e-2293c92a63d8');\n",
              "          const dataTable =\n",
              "            await google.colab.kernel.invokeFunction('convertToInteractive',\n",
              "                                                     [key], {});\n",
              "          if (!dataTable) return;\n",
              "\n",
              "          const docLinkHtml = 'Like what you see? Visit the ' +\n",
              "            '<a target=\"_blank\" href=https://colab.research.google.com/notebooks/data_table.ipynb>data table notebook</a>'\n",
              "            + ' to learn more about interactive tables.';\n",
              "          element.innerHTML = '';\n",
              "          dataTable['output_type'] = 'display_data';\n",
              "          await google.colab.output.renderOutput(dataTable, element);\n",
              "          const docLink = document.createElement('div');\n",
              "          docLink.innerHTML = docLinkHtml;\n",
              "          element.appendChild(docLink);\n",
              "        }\n",
              "      </script>\n",
              "    </div>\n",
              "  </div>\n",
              "  "
            ]
          },
          "metadata": {},
          "execution_count": 16
        }
      ]
    },
    {
      "cell_type": "markdown",
      "source": [
        "City memiliki banyak sekali jumlah unique value, sehingga fitur tersebut akan dihapus untuk mencegah overfitting."
      ],
      "metadata": {
        "id": "CgAXe9tiDXHx"
      }
    },
    {
      "cell_type": "code",
      "source": [
        "df_encode.drop('city',1,inplace=True)"
      ],
      "metadata": {
        "id": "E-VXs5w1Cy-5"
      },
      "execution_count": 17,
      "outputs": []
    },
    {
      "cell_type": "code",
      "source": [
        "#Label\n",
        "\n",
        "df_encode.jenis_kelamin.replace({'Perempuan':0,\n",
        "                                 'Laki-Laki':1},inplace=True)"
      ],
      "metadata": {
        "id": "j0iwWeyy_DXi"
      },
      "execution_count": 18,
      "outputs": []
    },
    {
      "cell_type": "code",
      "source": [
        "#One Hot Encoding\n",
        "onehot = ['province',\n",
        "          'category','waktu_iklan']\n",
        "for i in onehot:\n",
        "    onehots = pd.get_dummies(df_encode[i], prefix=i)\n",
        "    df_encode = df_encode.join(onehots)\n",
        "    \n",
        "df_encode = df_encode.drop(columns=onehot, axis =1)"
      ],
      "metadata": {
        "id": "s0_SqvUDBmsW"
      },
      "execution_count": 19,
      "outputs": []
    },
    {
      "cell_type": "markdown",
      "source": [
        "## Train Test Split"
      ],
      "metadata": {
        "id": "B_SV6VsZEXj5"
      }
    },
    {
      "cell_type": "code",
      "source": [
        "# Pemisahan Features vs Target\n",
        "\n",
        "X = df_encode.drop(columns=['Clicked on Ad'], axis=1)\n",
        "y = df_encode['Clicked on Ad']\n",
        "print(X.shape)\n",
        "print(y.shape)"
      ],
      "metadata": {
        "colab": {
          "base_uri": "https://localhost:8080/"
        },
        "id": "onzEUULjEZih",
        "outputId": "81e90196-5232-4c27-bcea-0710c19f269a"
      },
      "execution_count": 20,
      "outputs": [
        {
          "output_type": "stream",
          "name": "stdout",
          "text": [
            "(1000, 39)\n",
            "(1000,)\n"
          ]
        }
      ]
    },
    {
      "cell_type": "code",
      "source": [
        "from sklearn.model_selection import train_test_split\n",
        "X_train, X_test, y_train, y_test = train_test_split(X, y, test_size=0.33,random_state = 42)"
      ],
      "metadata": {
        "id": "FVUPjzhbEdqh"
      },
      "execution_count": 21,
      "outputs": []
    },
    {
      "cell_type": "markdown",
      "source": [
        "## Feature Transformation"
      ],
      "metadata": {
        "id": "Tb8IRqUfFYTU"
      }
    },
    {
      "cell_type": "code",
      "source": [
        "# Fitur transformasi menggunakan log\n",
        "transform = ['Daily Time Spent on Site', 'Age',\n",
        "             'Area Income', 'Daily Internet Usage']\n",
        "\n",
        "X_train.loc[:, transform] = np.log(X_train[transform])\n",
        "X_test.loc[:, transform] = np.log(X_test[transform])"
      ],
      "metadata": {
        "id": "ScQDUXyyEpkX"
      },
      "execution_count": 22,
      "outputs": []
    },
    {
      "cell_type": "markdown",
      "source": [
        "## Feature Standardization"
      ],
      "metadata": {
        "id": "B-aSvkjvGFdf"
      }
    },
    {
      "cell_type": "code",
      "source": [
        "#Merubah skala fitur menjadi 0,1\n",
        "from sklearn.preprocessing import MinMaxScaler\n",
        "ss = MinMaxScaler()\n",
        "\n",
        "X_train[transform] = ss.fit_transform(X_train[transform].values.reshape(len(X_train),4))\n",
        "\n",
        "X_test[transform] = ss.fit_transform(X_test[transform].values.reshape(len(X_test),4))"
      ],
      "metadata": {
        "id": "xlk0me9OGLWj"
      },
      "execution_count": 23,
      "outputs": []
    },
    {
      "cell_type": "code",
      "source": [
        "X_train.shape"
      ],
      "metadata": {
        "colab": {
          "base_uri": "https://localhost:8080/"
        },
        "id": "Koq-7ADqGWUT",
        "outputId": "24a45b2a-77d3-4925-b450-40306c0f98d3"
      },
      "execution_count": 24,
      "outputs": [
        {
          "output_type": "execute_result",
          "data": {
            "text/plain": [
              "(670, 39)"
            ]
          },
          "metadata": {},
          "execution_count": 24
        }
      ]
    }
  ]
}