{
  "nbformat": 4,
  "nbformat_minor": 0,
  "metadata": {
    "colab": {
      "name": "Customer Click (Data Cleaning).ipynb",
      "provenance": [],
      "toc_visible": true
    },
    "kernelspec": {
      "name": "python3",
      "display_name": "Python 3"
    },
    "language_info": {
      "name": "python"
    },
    "widgets": {
      "application/vnd.jupyter.widget-state+json": {
        "9c13281a7afe40bcb234f2ad9f22350e": {
          "model_module": "@jupyter-widgets/controls",
          "model_name": "HBoxModel",
          "model_module_version": "1.5.0",
          "state": {
            "_dom_classes": [],
            "_model_module": "@jupyter-widgets/controls",
            "_model_module_version": "1.5.0",
            "_model_name": "HBoxModel",
            "_view_count": null,
            "_view_module": "@jupyter-widgets/controls",
            "_view_module_version": "1.5.0",
            "_view_name": "HBoxView",
            "box_style": "",
            "children": [
              "IPY_MODEL_562f1c718562460cb2ec928b077d76f8",
              "IPY_MODEL_1f130d05fdc4423497c6b50c229eb861",
              "IPY_MODEL_4cb3efc7fe0b474f879a85cda26612f6"
            ],
            "layout": "IPY_MODEL_fed05b8a34604e3196183df7a1a507bd"
          }
        },
        "562f1c718562460cb2ec928b077d76f8": {
          "model_module": "@jupyter-widgets/controls",
          "model_name": "HTMLModel",
          "model_module_version": "1.5.0",
          "state": {
            "_dom_classes": [],
            "_model_module": "@jupyter-widgets/controls",
            "_model_module_version": "1.5.0",
            "_model_name": "HTMLModel",
            "_view_count": null,
            "_view_module": "@jupyter-widgets/controls",
            "_view_module_version": "1.5.0",
            "_view_name": "HTMLView",
            "description": "",
            "description_tooltip": null,
            "layout": "IPY_MODEL_73ac7aa813924424ad4860a5ede2ec87",
            "placeholder": "​",
            "style": "IPY_MODEL_9ede6ccac69c47e9948b6e35486ca791",
            "value": "100%"
          }
        },
        "1f130d05fdc4423497c6b50c229eb861": {
          "model_module": "@jupyter-widgets/controls",
          "model_name": "FloatProgressModel",
          "model_module_version": "1.5.0",
          "state": {
            "_dom_classes": [],
            "_model_module": "@jupyter-widgets/controls",
            "_model_module_version": "1.5.0",
            "_model_name": "FloatProgressModel",
            "_view_count": null,
            "_view_module": "@jupyter-widgets/controls",
            "_view_module_version": "1.5.0",
            "_view_name": "ProgressView",
            "bar_style": "success",
            "description": "",
            "description_tooltip": null,
            "layout": "IPY_MODEL_29ff35dee04145fe8e007525a6dc6819",
            "max": 100,
            "min": 0,
            "orientation": "horizontal",
            "style": "IPY_MODEL_caabba7dd7604bcf971571f8e20d5f5c",
            "value": 100
          }
        },
        "4cb3efc7fe0b474f879a85cda26612f6": {
          "model_module": "@jupyter-widgets/controls",
          "model_name": "HTMLModel",
          "model_module_version": "1.5.0",
          "state": {
            "_dom_classes": [],
            "_model_module": "@jupyter-widgets/controls",
            "_model_module_version": "1.5.0",
            "_model_name": "HTMLModel",
            "_view_count": null,
            "_view_module": "@jupyter-widgets/controls",
            "_view_module_version": "1.5.0",
            "_view_name": "HTMLView",
            "description": "",
            "description_tooltip": null,
            "layout": "IPY_MODEL_58def47535354160b1378da9f62821dd",
            "placeholder": "​",
            "style": "IPY_MODEL_f1b04ac5dfb14fcb990a9308e61fbac4",
            "value": " 100/100 [10:48&lt;00:00,  6.19s/it]"
          }
        },
        "fed05b8a34604e3196183df7a1a507bd": {
          "model_module": "@jupyter-widgets/base",
          "model_name": "LayoutModel",
          "model_module_version": "1.2.0",
          "state": {
            "_model_module": "@jupyter-widgets/base",
            "_model_module_version": "1.2.0",
            "_model_name": "LayoutModel",
            "_view_count": null,
            "_view_module": "@jupyter-widgets/base",
            "_view_module_version": "1.2.0",
            "_view_name": "LayoutView",
            "align_content": null,
            "align_items": null,
            "align_self": null,
            "border": null,
            "bottom": null,
            "display": null,
            "flex": null,
            "flex_flow": null,
            "grid_area": null,
            "grid_auto_columns": null,
            "grid_auto_flow": null,
            "grid_auto_rows": null,
            "grid_column": null,
            "grid_gap": null,
            "grid_row": null,
            "grid_template_areas": null,
            "grid_template_columns": null,
            "grid_template_rows": null,
            "height": null,
            "justify_content": null,
            "justify_items": null,
            "left": null,
            "margin": null,
            "max_height": null,
            "max_width": null,
            "min_height": null,
            "min_width": null,
            "object_fit": null,
            "object_position": null,
            "order": null,
            "overflow": null,
            "overflow_x": null,
            "overflow_y": null,
            "padding": null,
            "right": null,
            "top": null,
            "visibility": null,
            "width": null
          }
        },
        "73ac7aa813924424ad4860a5ede2ec87": {
          "model_module": "@jupyter-widgets/base",
          "model_name": "LayoutModel",
          "model_module_version": "1.2.0",
          "state": {
            "_model_module": "@jupyter-widgets/base",
            "_model_module_version": "1.2.0",
            "_model_name": "LayoutModel",
            "_view_count": null,
            "_view_module": "@jupyter-widgets/base",
            "_view_module_version": "1.2.0",
            "_view_name": "LayoutView",
            "align_content": null,
            "align_items": null,
            "align_self": null,
            "border": null,
            "bottom": null,
            "display": null,
            "flex": null,
            "flex_flow": null,
            "grid_area": null,
            "grid_auto_columns": null,
            "grid_auto_flow": null,
            "grid_auto_rows": null,
            "grid_column": null,
            "grid_gap": null,
            "grid_row": null,
            "grid_template_areas": null,
            "grid_template_columns": null,
            "grid_template_rows": null,
            "height": null,
            "justify_content": null,
            "justify_items": null,
            "left": null,
            "margin": null,
            "max_height": null,
            "max_width": null,
            "min_height": null,
            "min_width": null,
            "object_fit": null,
            "object_position": null,
            "order": null,
            "overflow": null,
            "overflow_x": null,
            "overflow_y": null,
            "padding": null,
            "right": null,
            "top": null,
            "visibility": null,
            "width": null
          }
        },
        "9ede6ccac69c47e9948b6e35486ca791": {
          "model_module": "@jupyter-widgets/controls",
          "model_name": "DescriptionStyleModel",
          "model_module_version": "1.5.0",
          "state": {
            "_model_module": "@jupyter-widgets/controls",
            "_model_module_version": "1.5.0",
            "_model_name": "DescriptionStyleModel",
            "_view_count": null,
            "_view_module": "@jupyter-widgets/base",
            "_view_module_version": "1.2.0",
            "_view_name": "StyleView",
            "description_width": ""
          }
        },
        "29ff35dee04145fe8e007525a6dc6819": {
          "model_module": "@jupyter-widgets/base",
          "model_name": "LayoutModel",
          "model_module_version": "1.2.0",
          "state": {
            "_model_module": "@jupyter-widgets/base",
            "_model_module_version": "1.2.0",
            "_model_name": "LayoutModel",
            "_view_count": null,
            "_view_module": "@jupyter-widgets/base",
            "_view_module_version": "1.2.0",
            "_view_name": "LayoutView",
            "align_content": null,
            "align_items": null,
            "align_self": null,
            "border": null,
            "bottom": null,
            "display": null,
            "flex": null,
            "flex_flow": null,
            "grid_area": null,
            "grid_auto_columns": null,
            "grid_auto_flow": null,
            "grid_auto_rows": null,
            "grid_column": null,
            "grid_gap": null,
            "grid_row": null,
            "grid_template_areas": null,
            "grid_template_columns": null,
            "grid_template_rows": null,
            "height": null,
            "justify_content": null,
            "justify_items": null,
            "left": null,
            "margin": null,
            "max_height": null,
            "max_width": null,
            "min_height": null,
            "min_width": null,
            "object_fit": null,
            "object_position": null,
            "order": null,
            "overflow": null,
            "overflow_x": null,
            "overflow_y": null,
            "padding": null,
            "right": null,
            "top": null,
            "visibility": null,
            "width": null
          }
        },
        "caabba7dd7604bcf971571f8e20d5f5c": {
          "model_module": "@jupyter-widgets/controls",
          "model_name": "ProgressStyleModel",
          "model_module_version": "1.5.0",
          "state": {
            "_model_module": "@jupyter-widgets/controls",
            "_model_module_version": "1.5.0",
            "_model_name": "ProgressStyleModel",
            "_view_count": null,
            "_view_module": "@jupyter-widgets/base",
            "_view_module_version": "1.2.0",
            "_view_name": "StyleView",
            "bar_color": null,
            "description_width": ""
          }
        },
        "58def47535354160b1378da9f62821dd": {
          "model_module": "@jupyter-widgets/base",
          "model_name": "LayoutModel",
          "model_module_version": "1.2.0",
          "state": {
            "_model_module": "@jupyter-widgets/base",
            "_model_module_version": "1.2.0",
            "_model_name": "LayoutModel",
            "_view_count": null,
            "_view_module": "@jupyter-widgets/base",
            "_view_module_version": "1.2.0",
            "_view_name": "LayoutView",
            "align_content": null,
            "align_items": null,
            "align_self": null,
            "border": null,
            "bottom": null,
            "display": null,
            "flex": null,
            "flex_flow": null,
            "grid_area": null,
            "grid_auto_columns": null,
            "grid_auto_flow": null,
            "grid_auto_rows": null,
            "grid_column": null,
            "grid_gap": null,
            "grid_row": null,
            "grid_template_areas": null,
            "grid_template_columns": null,
            "grid_template_rows": null,
            "height": null,
            "justify_content": null,
            "justify_items": null,
            "left": null,
            "margin": null,
            "max_height": null,
            "max_width": null,
            "min_height": null,
            "min_width": null,
            "object_fit": null,
            "object_position": null,
            "order": null,
            "overflow": null,
            "overflow_x": null,
            "overflow_y": null,
            "padding": null,
            "right": null,
            "top": null,
            "visibility": null,
            "width": null
          }
        },
        "f1b04ac5dfb14fcb990a9308e61fbac4": {
          "model_module": "@jupyter-widgets/controls",
          "model_name": "DescriptionStyleModel",
          "model_module_version": "1.5.0",
          "state": {
            "_model_module": "@jupyter-widgets/controls",
            "_model_module_version": "1.5.0",
            "_model_name": "DescriptionStyleModel",
            "_view_count": null,
            "_view_module": "@jupyter-widgets/base",
            "_view_module_version": "1.2.0",
            "_view_name": "StyleView",
            "description_width": ""
          }
        }
      }
    }
  },
  "cells": [
    {
      "cell_type": "markdown",
      "source": [
        "# Data Cleaning"
      ],
      "metadata": {
        "id": "HkITfDCHzJM-"
      }
    },
    {
      "cell_type": "code",
      "execution_count": 1,
      "metadata": {
        "id": "YlUMc9mwzJNB"
      },
      "outputs": [],
      "source": [
        "import pandas as pd\n",
        "import numpy as np\n",
        "import seaborn as sns\n",
        "import matplotlib.pyplot as plt\n",
        "import warnings\n",
        "import matplotlib\n",
        "\n",
        "pd.set_option('display.max_columns', None)\n",
        "sns.set_style('whitegrid')\n",
        "warnings.filterwarnings('ignore')\n",
        "pal =  ['#FEEFE5', '#F8C8B0', '#E45011', '#87280E','#0F0608']\n",
        "\n",
        "df = pd.read_csv('https://raw.githubusercontent.com/mchosasih99/dataset/main/Clicked%20Ads%20Dataset.csv')"
      ]
    },
    {
      "cell_type": "code",
      "source": [
        "df.info()"
      ],
      "metadata": {
        "colab": {
          "base_uri": "https://localhost:8080/"
        },
        "outputId": "d6b33b23-bf92-4a2a-8c7f-6a69a93858ba",
        "id": "h8893QJ7zJNC"
      },
      "execution_count": 2,
      "outputs": [
        {
          "output_type": "stream",
          "name": "stdout",
          "text": [
            "<class 'pandas.core.frame.DataFrame'>\n",
            "RangeIndex: 1000 entries, 0 to 999\n",
            "Data columns (total 11 columns):\n",
            " #   Column                    Non-Null Count  Dtype  \n",
            "---  ------                    --------------  -----  \n",
            " 0   Unnamed: 0                1000 non-null   int64  \n",
            " 1   Daily Time Spent on Site  987 non-null    float64\n",
            " 2   Age                       1000 non-null   int64  \n",
            " 3   Area Income               987 non-null    float64\n",
            " 4   Daily Internet Usage      989 non-null    float64\n",
            " 5   Male                      997 non-null    object \n",
            " 6   Timestamp                 1000 non-null   object \n",
            " 7   Clicked on Ad             1000 non-null   object \n",
            " 8   city                      1000 non-null   object \n",
            " 9   province                  1000 non-null   object \n",
            " 10  category                  1000 non-null   object \n",
            "dtypes: float64(3), int64(2), object(6)\n",
            "memory usage: 86.1+ KB\n"
          ]
        }
      ]
    },
    {
      "cell_type": "code",
      "source": [
        "df.describe()"
      ],
      "metadata": {
        "colab": {
          "base_uri": "https://localhost:8080/",
          "height": 300
        },
        "outputId": "d0e4fab9-4599-4391-fdce-517606c831a9",
        "id": "DFHUMRG7zJND"
      },
      "execution_count": 3,
      "outputs": [
        {
          "output_type": "execute_result",
          "data": {
            "text/plain": [
              "        Unnamed: 0  Daily Time Spent on Site          Age   Area Income  \\\n",
              "count  1000.000000                987.000000  1000.000000  9.870000e+02   \n",
              "mean    499.500000                 64.929524    36.009000  3.848647e+08   \n",
              "std     288.819436                 15.844699     8.785562  9.407999e+07   \n",
              "min       0.000000                 32.600000    19.000000  9.797550e+07   \n",
              "25%     249.750000                 51.270000    29.000000  3.286330e+08   \n",
              "50%     499.500000                 68.110000    35.000000  3.990683e+08   \n",
              "75%     749.250000                 78.460000    42.000000  4.583554e+08   \n",
              "max     999.000000                 91.430000    61.000000  5.563936e+08   \n",
              "\n",
              "       Daily Internet Usage  \n",
              "count            989.000000  \n",
              "mean             179.863620  \n",
              "std               43.870142  \n",
              "min              104.780000  \n",
              "25%              138.710000  \n",
              "50%              182.650000  \n",
              "75%              218.790000  \n",
              "max              267.010000  "
            ],
            "text/html": [
              "\n",
              "  <div id=\"df-38bb4c43-689b-40d2-9eba-5819e8f191d6\">\n",
              "    <div class=\"colab-df-container\">\n",
              "      <div>\n",
              "<style scoped>\n",
              "    .dataframe tbody tr th:only-of-type {\n",
              "        vertical-align: middle;\n",
              "    }\n",
              "\n",
              "    .dataframe tbody tr th {\n",
              "        vertical-align: top;\n",
              "    }\n",
              "\n",
              "    .dataframe thead th {\n",
              "        text-align: right;\n",
              "    }\n",
              "</style>\n",
              "<table border=\"1\" class=\"dataframe\">\n",
              "  <thead>\n",
              "    <tr style=\"text-align: right;\">\n",
              "      <th></th>\n",
              "      <th>Unnamed: 0</th>\n",
              "      <th>Daily Time Spent on Site</th>\n",
              "      <th>Age</th>\n",
              "      <th>Area Income</th>\n",
              "      <th>Daily Internet Usage</th>\n",
              "    </tr>\n",
              "  </thead>\n",
              "  <tbody>\n",
              "    <tr>\n",
              "      <th>count</th>\n",
              "      <td>1000.000000</td>\n",
              "      <td>987.000000</td>\n",
              "      <td>1000.000000</td>\n",
              "      <td>9.870000e+02</td>\n",
              "      <td>989.000000</td>\n",
              "    </tr>\n",
              "    <tr>\n",
              "      <th>mean</th>\n",
              "      <td>499.500000</td>\n",
              "      <td>64.929524</td>\n",
              "      <td>36.009000</td>\n",
              "      <td>3.848647e+08</td>\n",
              "      <td>179.863620</td>\n",
              "    </tr>\n",
              "    <tr>\n",
              "      <th>std</th>\n",
              "      <td>288.819436</td>\n",
              "      <td>15.844699</td>\n",
              "      <td>8.785562</td>\n",
              "      <td>9.407999e+07</td>\n",
              "      <td>43.870142</td>\n",
              "    </tr>\n",
              "    <tr>\n",
              "      <th>min</th>\n",
              "      <td>0.000000</td>\n",
              "      <td>32.600000</td>\n",
              "      <td>19.000000</td>\n",
              "      <td>9.797550e+07</td>\n",
              "      <td>104.780000</td>\n",
              "    </tr>\n",
              "    <tr>\n",
              "      <th>25%</th>\n",
              "      <td>249.750000</td>\n",
              "      <td>51.270000</td>\n",
              "      <td>29.000000</td>\n",
              "      <td>3.286330e+08</td>\n",
              "      <td>138.710000</td>\n",
              "    </tr>\n",
              "    <tr>\n",
              "      <th>50%</th>\n",
              "      <td>499.500000</td>\n",
              "      <td>68.110000</td>\n",
              "      <td>35.000000</td>\n",
              "      <td>3.990683e+08</td>\n",
              "      <td>182.650000</td>\n",
              "    </tr>\n",
              "    <tr>\n",
              "      <th>75%</th>\n",
              "      <td>749.250000</td>\n",
              "      <td>78.460000</td>\n",
              "      <td>42.000000</td>\n",
              "      <td>4.583554e+08</td>\n",
              "      <td>218.790000</td>\n",
              "    </tr>\n",
              "    <tr>\n",
              "      <th>max</th>\n",
              "      <td>999.000000</td>\n",
              "      <td>91.430000</td>\n",
              "      <td>61.000000</td>\n",
              "      <td>5.563936e+08</td>\n",
              "      <td>267.010000</td>\n",
              "    </tr>\n",
              "  </tbody>\n",
              "</table>\n",
              "</div>\n",
              "      <button class=\"colab-df-convert\" onclick=\"convertToInteractive('df-38bb4c43-689b-40d2-9eba-5819e8f191d6')\"\n",
              "              title=\"Convert this dataframe to an interactive table.\"\n",
              "              style=\"display:none;\">\n",
              "        \n",
              "  <svg xmlns=\"http://www.w3.org/2000/svg\" height=\"24px\"viewBox=\"0 0 24 24\"\n",
              "       width=\"24px\">\n",
              "    <path d=\"M0 0h24v24H0V0z\" fill=\"none\"/>\n",
              "    <path d=\"M18.56 5.44l.94 2.06.94-2.06 2.06-.94-2.06-.94-.94-2.06-.94 2.06-2.06.94zm-11 1L8.5 8.5l.94-2.06 2.06-.94-2.06-.94L8.5 2.5l-.94 2.06-2.06.94zm10 10l.94 2.06.94-2.06 2.06-.94-2.06-.94-.94-2.06-.94 2.06-2.06.94z\"/><path d=\"M17.41 7.96l-1.37-1.37c-.4-.4-.92-.59-1.43-.59-.52 0-1.04.2-1.43.59L10.3 9.45l-7.72 7.72c-.78.78-.78 2.05 0 2.83L4 21.41c.39.39.9.59 1.41.59.51 0 1.02-.2 1.41-.59l7.78-7.78 2.81-2.81c.8-.78.8-2.07 0-2.86zM5.41 20L4 18.59l7.72-7.72 1.47 1.35L5.41 20z\"/>\n",
              "  </svg>\n",
              "      </button>\n",
              "      \n",
              "  <style>\n",
              "    .colab-df-container {\n",
              "      display:flex;\n",
              "      flex-wrap:wrap;\n",
              "      gap: 12px;\n",
              "    }\n",
              "\n",
              "    .colab-df-convert {\n",
              "      background-color: #E8F0FE;\n",
              "      border: none;\n",
              "      border-radius: 50%;\n",
              "      cursor: pointer;\n",
              "      display: none;\n",
              "      fill: #1967D2;\n",
              "      height: 32px;\n",
              "      padding: 0 0 0 0;\n",
              "      width: 32px;\n",
              "    }\n",
              "\n",
              "    .colab-df-convert:hover {\n",
              "      background-color: #E2EBFA;\n",
              "      box-shadow: 0px 1px 2px rgba(60, 64, 67, 0.3), 0px 1px 3px 1px rgba(60, 64, 67, 0.15);\n",
              "      fill: #174EA6;\n",
              "    }\n",
              "\n",
              "    [theme=dark] .colab-df-convert {\n",
              "      background-color: #3B4455;\n",
              "      fill: #D2E3FC;\n",
              "    }\n",
              "\n",
              "    [theme=dark] .colab-df-convert:hover {\n",
              "      background-color: #434B5C;\n",
              "      box-shadow: 0px 1px 3px 1px rgba(0, 0, 0, 0.15);\n",
              "      filter: drop-shadow(0px 1px 2px rgba(0, 0, 0, 0.3));\n",
              "      fill: #FFFFFF;\n",
              "    }\n",
              "  </style>\n",
              "\n",
              "      <script>\n",
              "        const buttonEl =\n",
              "          document.querySelector('#df-38bb4c43-689b-40d2-9eba-5819e8f191d6 button.colab-df-convert');\n",
              "        buttonEl.style.display =\n",
              "          google.colab.kernel.accessAllowed ? 'block' : 'none';\n",
              "\n",
              "        async function convertToInteractive(key) {\n",
              "          const element = document.querySelector('#df-38bb4c43-689b-40d2-9eba-5819e8f191d6');\n",
              "          const dataTable =\n",
              "            await google.colab.kernel.invokeFunction('convertToInteractive',\n",
              "                                                     [key], {});\n",
              "          if (!dataTable) return;\n",
              "\n",
              "          const docLinkHtml = 'Like what you see? Visit the ' +\n",
              "            '<a target=\"_blank\" href=https://colab.research.google.com/notebooks/data_table.ipynb>data table notebook</a>'\n",
              "            + ' to learn more about interactive tables.';\n",
              "          element.innerHTML = '';\n",
              "          dataTable['output_type'] = 'display_data';\n",
              "          await google.colab.output.renderOutput(dataTable, element);\n",
              "          const docLink = document.createElement('div');\n",
              "          docLink.innerHTML = docLinkHtml;\n",
              "          element.appendChild(docLink);\n",
              "        }\n",
              "      </script>\n",
              "    </div>\n",
              "  </div>\n",
              "  "
            ]
          },
          "metadata": {},
          "execution_count": 3
        }
      ]
    },
    {
      "cell_type": "code",
      "source": [
        "df.describe(include='object')"
      ],
      "metadata": {
        "colab": {
          "base_uri": "https://localhost:8080/",
          "height": 175
        },
        "outputId": "f10e2f76-ae94-40f9-d458-f8d312e0eb65",
        "id": "bKiYwdajzJNE"
      },
      "execution_count": 4,
      "outputs": [
        {
          "output_type": "execute_result",
          "data": {
            "text/plain": [
              "             Male        Timestamp Clicked on Ad      city  \\\n",
              "count         997             1000          1000      1000   \n",
              "unique          2              997             2        30   \n",
              "top     Perempuan  5/26/2016 15:40            No  Surabaya   \n",
              "freq          518                2           500        64   \n",
              "\n",
              "                             province  category  \n",
              "count                            1000      1000  \n",
              "unique                             16        10  \n",
              "top     Daerah Khusus Ibukota Jakarta  Otomotif  \n",
              "freq                              253       112  "
            ],
            "text/html": [
              "\n",
              "  <div id=\"df-63584998-0f86-4189-b48d-66c23615c7a1\">\n",
              "    <div class=\"colab-df-container\">\n",
              "      <div>\n",
              "<style scoped>\n",
              "    .dataframe tbody tr th:only-of-type {\n",
              "        vertical-align: middle;\n",
              "    }\n",
              "\n",
              "    .dataframe tbody tr th {\n",
              "        vertical-align: top;\n",
              "    }\n",
              "\n",
              "    .dataframe thead th {\n",
              "        text-align: right;\n",
              "    }\n",
              "</style>\n",
              "<table border=\"1\" class=\"dataframe\">\n",
              "  <thead>\n",
              "    <tr style=\"text-align: right;\">\n",
              "      <th></th>\n",
              "      <th>Male</th>\n",
              "      <th>Timestamp</th>\n",
              "      <th>Clicked on Ad</th>\n",
              "      <th>city</th>\n",
              "      <th>province</th>\n",
              "      <th>category</th>\n",
              "    </tr>\n",
              "  </thead>\n",
              "  <tbody>\n",
              "    <tr>\n",
              "      <th>count</th>\n",
              "      <td>997</td>\n",
              "      <td>1000</td>\n",
              "      <td>1000</td>\n",
              "      <td>1000</td>\n",
              "      <td>1000</td>\n",
              "      <td>1000</td>\n",
              "    </tr>\n",
              "    <tr>\n",
              "      <th>unique</th>\n",
              "      <td>2</td>\n",
              "      <td>997</td>\n",
              "      <td>2</td>\n",
              "      <td>30</td>\n",
              "      <td>16</td>\n",
              "      <td>10</td>\n",
              "    </tr>\n",
              "    <tr>\n",
              "      <th>top</th>\n",
              "      <td>Perempuan</td>\n",
              "      <td>5/26/2016 15:40</td>\n",
              "      <td>No</td>\n",
              "      <td>Surabaya</td>\n",
              "      <td>Daerah Khusus Ibukota Jakarta</td>\n",
              "      <td>Otomotif</td>\n",
              "    </tr>\n",
              "    <tr>\n",
              "      <th>freq</th>\n",
              "      <td>518</td>\n",
              "      <td>2</td>\n",
              "      <td>500</td>\n",
              "      <td>64</td>\n",
              "      <td>253</td>\n",
              "      <td>112</td>\n",
              "    </tr>\n",
              "  </tbody>\n",
              "</table>\n",
              "</div>\n",
              "      <button class=\"colab-df-convert\" onclick=\"convertToInteractive('df-63584998-0f86-4189-b48d-66c23615c7a1')\"\n",
              "              title=\"Convert this dataframe to an interactive table.\"\n",
              "              style=\"display:none;\">\n",
              "        \n",
              "  <svg xmlns=\"http://www.w3.org/2000/svg\" height=\"24px\"viewBox=\"0 0 24 24\"\n",
              "       width=\"24px\">\n",
              "    <path d=\"M0 0h24v24H0V0z\" fill=\"none\"/>\n",
              "    <path d=\"M18.56 5.44l.94 2.06.94-2.06 2.06-.94-2.06-.94-.94-2.06-.94 2.06-2.06.94zm-11 1L8.5 8.5l.94-2.06 2.06-.94-2.06-.94L8.5 2.5l-.94 2.06-2.06.94zm10 10l.94 2.06.94-2.06 2.06-.94-2.06-.94-.94-2.06-.94 2.06-2.06.94z\"/><path d=\"M17.41 7.96l-1.37-1.37c-.4-.4-.92-.59-1.43-.59-.52 0-1.04.2-1.43.59L10.3 9.45l-7.72 7.72c-.78.78-.78 2.05 0 2.83L4 21.41c.39.39.9.59 1.41.59.51 0 1.02-.2 1.41-.59l7.78-7.78 2.81-2.81c.8-.78.8-2.07 0-2.86zM5.41 20L4 18.59l7.72-7.72 1.47 1.35L5.41 20z\"/>\n",
              "  </svg>\n",
              "      </button>\n",
              "      \n",
              "  <style>\n",
              "    .colab-df-container {\n",
              "      display:flex;\n",
              "      flex-wrap:wrap;\n",
              "      gap: 12px;\n",
              "    }\n",
              "\n",
              "    .colab-df-convert {\n",
              "      background-color: #E8F0FE;\n",
              "      border: none;\n",
              "      border-radius: 50%;\n",
              "      cursor: pointer;\n",
              "      display: none;\n",
              "      fill: #1967D2;\n",
              "      height: 32px;\n",
              "      padding: 0 0 0 0;\n",
              "      width: 32px;\n",
              "    }\n",
              "\n",
              "    .colab-df-convert:hover {\n",
              "      background-color: #E2EBFA;\n",
              "      box-shadow: 0px 1px 2px rgba(60, 64, 67, 0.3), 0px 1px 3px 1px rgba(60, 64, 67, 0.15);\n",
              "      fill: #174EA6;\n",
              "    }\n",
              "\n",
              "    [theme=dark] .colab-df-convert {\n",
              "      background-color: #3B4455;\n",
              "      fill: #D2E3FC;\n",
              "    }\n",
              "\n",
              "    [theme=dark] .colab-df-convert:hover {\n",
              "      background-color: #434B5C;\n",
              "      box-shadow: 0px 1px 3px 1px rgba(0, 0, 0, 0.15);\n",
              "      filter: drop-shadow(0px 1px 2px rgba(0, 0, 0, 0.3));\n",
              "      fill: #FFFFFF;\n",
              "    }\n",
              "  </style>\n",
              "\n",
              "      <script>\n",
              "        const buttonEl =\n",
              "          document.querySelector('#df-63584998-0f86-4189-b48d-66c23615c7a1 button.colab-df-convert');\n",
              "        buttonEl.style.display =\n",
              "          google.colab.kernel.accessAllowed ? 'block' : 'none';\n",
              "\n",
              "        async function convertToInteractive(key) {\n",
              "          const element = document.querySelector('#df-63584998-0f86-4189-b48d-66c23615c7a1');\n",
              "          const dataTable =\n",
              "            await google.colab.kernel.invokeFunction('convertToInteractive',\n",
              "                                                     [key], {});\n",
              "          if (!dataTable) return;\n",
              "\n",
              "          const docLinkHtml = 'Like what you see? Visit the ' +\n",
              "            '<a target=\"_blank\" href=https://colab.research.google.com/notebooks/data_table.ipynb>data table notebook</a>'\n",
              "            + ' to learn more about interactive tables.';\n",
              "          element.innerHTML = '';\n",
              "          dataTable['output_type'] = 'display_data';\n",
              "          await google.colab.output.renderOutput(dataTable, element);\n",
              "          const docLink = document.createElement('div');\n",
              "          docLink.innerHTML = docLinkHtml;\n",
              "          element.appendChild(docLink);\n",
              "        }\n",
              "      </script>\n",
              "    </div>\n",
              "  </div>\n",
              "  "
            ]
          },
          "metadata": {},
          "execution_count": 4
        }
      ]
    },
    {
      "cell_type": "code",
      "source": [
        "df.head()"
      ],
      "metadata": {
        "colab": {
          "base_uri": "https://localhost:8080/",
          "height": 206
        },
        "outputId": "33587c41-f23a-4b86-953b-608cf6059f09",
        "id": "4GxhrWadzJNF"
      },
      "execution_count": 5,
      "outputs": [
        {
          "output_type": "execute_result",
          "data": {
            "text/plain": [
              "   Unnamed: 0  Daily Time Spent on Site  Age  Area Income  \\\n",
              "0           0                     68.95   35  432837300.0   \n",
              "1           1                     80.23   31  479092950.0   \n",
              "2           2                     69.47   26  418501580.0   \n",
              "3           3                     74.15   29  383643260.0   \n",
              "4           4                     68.37   35  517229930.0   \n",
              "\n",
              "   Daily Internet Usage       Male        Timestamp Clicked on Ad  \\\n",
              "0                256.09  Perempuan   3/27/2016 0:53            No   \n",
              "1                193.77  Laki-Laki    4/4/2016 1:39            No   \n",
              "2                236.50  Perempuan  3/13/2016 20:35            No   \n",
              "3                245.89  Laki-Laki   1/10/2016 2:31            No   \n",
              "4                225.58  Perempuan    6/3/2016 3:36            No   \n",
              "\n",
              "            city                       province    category  \n",
              "0  Jakarta Timur  Daerah Khusus Ibukota Jakarta   Furniture  \n",
              "1       Denpasar                           Bali        Food  \n",
              "2       Surabaya                     Jawa Timur  Electronic  \n",
              "3          Batam                 Kepulauan Riau       House  \n",
              "4          Medan                  Sumatra Utara     Finance  "
            ],
            "text/html": [
              "\n",
              "  <div id=\"df-76f66752-2837-48e9-9e67-d83c7959ea78\">\n",
              "    <div class=\"colab-df-container\">\n",
              "      <div>\n",
              "<style scoped>\n",
              "    .dataframe tbody tr th:only-of-type {\n",
              "        vertical-align: middle;\n",
              "    }\n",
              "\n",
              "    .dataframe tbody tr th {\n",
              "        vertical-align: top;\n",
              "    }\n",
              "\n",
              "    .dataframe thead th {\n",
              "        text-align: right;\n",
              "    }\n",
              "</style>\n",
              "<table border=\"1\" class=\"dataframe\">\n",
              "  <thead>\n",
              "    <tr style=\"text-align: right;\">\n",
              "      <th></th>\n",
              "      <th>Unnamed: 0</th>\n",
              "      <th>Daily Time Spent on Site</th>\n",
              "      <th>Age</th>\n",
              "      <th>Area Income</th>\n",
              "      <th>Daily Internet Usage</th>\n",
              "      <th>Male</th>\n",
              "      <th>Timestamp</th>\n",
              "      <th>Clicked on Ad</th>\n",
              "      <th>city</th>\n",
              "      <th>province</th>\n",
              "      <th>category</th>\n",
              "    </tr>\n",
              "  </thead>\n",
              "  <tbody>\n",
              "    <tr>\n",
              "      <th>0</th>\n",
              "      <td>0</td>\n",
              "      <td>68.95</td>\n",
              "      <td>35</td>\n",
              "      <td>432837300.0</td>\n",
              "      <td>256.09</td>\n",
              "      <td>Perempuan</td>\n",
              "      <td>3/27/2016 0:53</td>\n",
              "      <td>No</td>\n",
              "      <td>Jakarta Timur</td>\n",
              "      <td>Daerah Khusus Ibukota Jakarta</td>\n",
              "      <td>Furniture</td>\n",
              "    </tr>\n",
              "    <tr>\n",
              "      <th>1</th>\n",
              "      <td>1</td>\n",
              "      <td>80.23</td>\n",
              "      <td>31</td>\n",
              "      <td>479092950.0</td>\n",
              "      <td>193.77</td>\n",
              "      <td>Laki-Laki</td>\n",
              "      <td>4/4/2016 1:39</td>\n",
              "      <td>No</td>\n",
              "      <td>Denpasar</td>\n",
              "      <td>Bali</td>\n",
              "      <td>Food</td>\n",
              "    </tr>\n",
              "    <tr>\n",
              "      <th>2</th>\n",
              "      <td>2</td>\n",
              "      <td>69.47</td>\n",
              "      <td>26</td>\n",
              "      <td>418501580.0</td>\n",
              "      <td>236.50</td>\n",
              "      <td>Perempuan</td>\n",
              "      <td>3/13/2016 20:35</td>\n",
              "      <td>No</td>\n",
              "      <td>Surabaya</td>\n",
              "      <td>Jawa Timur</td>\n",
              "      <td>Electronic</td>\n",
              "    </tr>\n",
              "    <tr>\n",
              "      <th>3</th>\n",
              "      <td>3</td>\n",
              "      <td>74.15</td>\n",
              "      <td>29</td>\n",
              "      <td>383643260.0</td>\n",
              "      <td>245.89</td>\n",
              "      <td>Laki-Laki</td>\n",
              "      <td>1/10/2016 2:31</td>\n",
              "      <td>No</td>\n",
              "      <td>Batam</td>\n",
              "      <td>Kepulauan Riau</td>\n",
              "      <td>House</td>\n",
              "    </tr>\n",
              "    <tr>\n",
              "      <th>4</th>\n",
              "      <td>4</td>\n",
              "      <td>68.37</td>\n",
              "      <td>35</td>\n",
              "      <td>517229930.0</td>\n",
              "      <td>225.58</td>\n",
              "      <td>Perempuan</td>\n",
              "      <td>6/3/2016 3:36</td>\n",
              "      <td>No</td>\n",
              "      <td>Medan</td>\n",
              "      <td>Sumatra Utara</td>\n",
              "      <td>Finance</td>\n",
              "    </tr>\n",
              "  </tbody>\n",
              "</table>\n",
              "</div>\n",
              "      <button class=\"colab-df-convert\" onclick=\"convertToInteractive('df-76f66752-2837-48e9-9e67-d83c7959ea78')\"\n",
              "              title=\"Convert this dataframe to an interactive table.\"\n",
              "              style=\"display:none;\">\n",
              "        \n",
              "  <svg xmlns=\"http://www.w3.org/2000/svg\" height=\"24px\"viewBox=\"0 0 24 24\"\n",
              "       width=\"24px\">\n",
              "    <path d=\"M0 0h24v24H0V0z\" fill=\"none\"/>\n",
              "    <path d=\"M18.56 5.44l.94 2.06.94-2.06 2.06-.94-2.06-.94-.94-2.06-.94 2.06-2.06.94zm-11 1L8.5 8.5l.94-2.06 2.06-.94-2.06-.94L8.5 2.5l-.94 2.06-2.06.94zm10 10l.94 2.06.94-2.06 2.06-.94-2.06-.94-.94-2.06-.94 2.06-2.06.94z\"/><path d=\"M17.41 7.96l-1.37-1.37c-.4-.4-.92-.59-1.43-.59-.52 0-1.04.2-1.43.59L10.3 9.45l-7.72 7.72c-.78.78-.78 2.05 0 2.83L4 21.41c.39.39.9.59 1.41.59.51 0 1.02-.2 1.41-.59l7.78-7.78 2.81-2.81c.8-.78.8-2.07 0-2.86zM5.41 20L4 18.59l7.72-7.72 1.47 1.35L5.41 20z\"/>\n",
              "  </svg>\n",
              "      </button>\n",
              "      \n",
              "  <style>\n",
              "    .colab-df-container {\n",
              "      display:flex;\n",
              "      flex-wrap:wrap;\n",
              "      gap: 12px;\n",
              "    }\n",
              "\n",
              "    .colab-df-convert {\n",
              "      background-color: #E8F0FE;\n",
              "      border: none;\n",
              "      border-radius: 50%;\n",
              "      cursor: pointer;\n",
              "      display: none;\n",
              "      fill: #1967D2;\n",
              "      height: 32px;\n",
              "      padding: 0 0 0 0;\n",
              "      width: 32px;\n",
              "    }\n",
              "\n",
              "    .colab-df-convert:hover {\n",
              "      background-color: #E2EBFA;\n",
              "      box-shadow: 0px 1px 2px rgba(60, 64, 67, 0.3), 0px 1px 3px 1px rgba(60, 64, 67, 0.15);\n",
              "      fill: #174EA6;\n",
              "    }\n",
              "\n",
              "    [theme=dark] .colab-df-convert {\n",
              "      background-color: #3B4455;\n",
              "      fill: #D2E3FC;\n",
              "    }\n",
              "\n",
              "    [theme=dark] .colab-df-convert:hover {\n",
              "      background-color: #434B5C;\n",
              "      box-shadow: 0px 1px 3px 1px rgba(0, 0, 0, 0.15);\n",
              "      filter: drop-shadow(0px 1px 2px rgba(0, 0, 0, 0.3));\n",
              "      fill: #FFFFFF;\n",
              "    }\n",
              "  </style>\n",
              "\n",
              "      <script>\n",
              "        const buttonEl =\n",
              "          document.querySelector('#df-76f66752-2837-48e9-9e67-d83c7959ea78 button.colab-df-convert');\n",
              "        buttonEl.style.display =\n",
              "          google.colab.kernel.accessAllowed ? 'block' : 'none';\n",
              "\n",
              "        async function convertToInteractive(key) {\n",
              "          const element = document.querySelector('#df-76f66752-2837-48e9-9e67-d83c7959ea78');\n",
              "          const dataTable =\n",
              "            await google.colab.kernel.invokeFunction('convertToInteractive',\n",
              "                                                     [key], {});\n",
              "          if (!dataTable) return;\n",
              "\n",
              "          const docLinkHtml = 'Like what you see? Visit the ' +\n",
              "            '<a target=\"_blank\" href=https://colab.research.google.com/notebooks/data_table.ipynb>data table notebook</a>'\n",
              "            + ' to learn more about interactive tables.';\n",
              "          element.innerHTML = '';\n",
              "          dataTable['output_type'] = 'display_data';\n",
              "          await google.colab.output.renderOutput(dataTable, element);\n",
              "          const docLink = document.createElement('div');\n",
              "          docLink.innerHTML = docLinkHtml;\n",
              "          element.appendChild(docLink);\n",
              "        }\n",
              "      </script>\n",
              "    </div>\n",
              "  </div>\n",
              "  "
            ]
          },
          "metadata": {},
          "execution_count": 5
        }
      ]
    },
    {
      "cell_type": "code",
      "source": [
        "# Menghapus kolom\n",
        "df.drop('Unnamed: 0',1,inplace=True)"
      ],
      "metadata": {
        "id": "atq17kwKzJNN"
      },
      "execution_count": 6,
      "outputs": []
    },
    {
      "cell_type": "markdown",
      "source": [
        "## Modifikasi kolom datetime"
      ],
      "metadata": {
        "id": "aoGVVoZqzJNR"
      }
    },
    {
      "cell_type": "code",
      "source": [
        "df['Timestamp'] = pd.to_datetime(df['Timestamp'])\n",
        "\n",
        "df['Date'] = pd.to_datetime(df['Timestamp']).dt.date\n",
        "df['Time'] = pd.to_datetime(df['Timestamp']).dt.time\n",
        "df['hari'] = pd.to_datetime(df['Date']).dt.day\n",
        "df['hari_dalam_minggu'] = pd.to_datetime(df['Date']).dt.day_of_week\n",
        "df['minggu'] = pd.to_datetime(df['Date']).dt.week\n",
        "df['bulan'] = pd.to_datetime(df['Date']).dt.month\n",
        "\n",
        "df.drop(['Timestamp','Date'],1, inplace=True)"
      ],
      "metadata": {
        "id": "YDkfVwpfzJNR"
      },
      "execution_count": 7,
      "outputs": []
    },
    {
      "cell_type": "code",
      "source": [
        "df[['jam','menit','detik']] = df['Time'].astype(str).str.split(':', expand=True)\n",
        "df['jam'] = df['jam'].astype(int)"
      ],
      "metadata": {
        "id": "rgcSOIhDzJNS"
      },
      "execution_count": 8,
      "outputs": []
    },
    {
      "cell_type": "code",
      "source": [
        "#Group Labeling Waktu\n",
        "conditions = [\n",
        "    df['jam'].isin(list(range(0,4))),\n",
        "    df['jam'].isin(list(range(4,11))),\n",
        "    df['jam'].isin(list(range(11,15))),\n",
        "    df['jam'].isin(list(range(15,19))),\n",
        "    df['jam'].isin(list(range(19,25)))\n",
        "]\n",
        "\n",
        "choices = ['malam', 'pagi', 'siang', 'sore', 'malam']\n",
        "\n",
        "df['waktu_iklan'] = np.select(conditions, choices)\n"
      ],
      "metadata": {
        "id": "nZ-d6qBwzJNT"
      },
      "execution_count": 9,
      "outputs": []
    },
    {
      "cell_type": "code",
      "source": [
        "#Menghapus kolom yang tidak perlu\n",
        "df.drop(['jam','detik','menit','Time'], 1,inplace=True)"
      ],
      "metadata": {
        "id": "pdZed8PkzJNT"
      },
      "execution_count": 10,
      "outputs": []
    },
    {
      "cell_type": "markdown",
      "source": [
        "## Mengisi Null Value"
      ],
      "metadata": {
        "id": "7rODBLTYzJNN"
      }
    },
    {
      "cell_type": "code",
      "source": [
        "df['Daily Time Spent on Site'].fillna(df['Daily Time Spent on Site'].mean(),\n",
        "                                      inplace=True)\n",
        "df['Male'].fillna('Perempuan',\n",
        "                  inplace=True)\n",
        "df['Daily Internet Usage'].fillna(df['Daily Internet Usage'].mean(),\n",
        "                                  inplace=True)"
      ],
      "metadata": {
        "id": "70kJoEGPzJNO"
      },
      "execution_count": 11,
      "outputs": []
    },
    {
      "cell_type": "code",
      "source": [
        "# Mengisi Null Value dengan median tiap city\n",
        "\n",
        "#Agregasi median income\n",
        "income_median = df.groupby('city').agg({'Area Income':\n",
        "                                        'median'}).reset_index() \n",
        "#Mengambil dataframe null\n",
        "df_null = df[df['Area Income'].isnull()]\n",
        "#Membuat dataframe baru\n",
        "df_fillna = df_null.merge(income_median,\n",
        "                          on='city',\n",
        "                          how='left')\n",
        "df_fillna.drop('Area Income_x',1,inplace=True)\n",
        "df_fillna.rename(columns=({'Area Income_y': 'Area Income'}),inplace=True)\n",
        "df_fillna = df_fillna[list(df.columns)] \n",
        "\n",
        "df_clean = df.append(df_fillna) #Append ke dataframe baru\n",
        "df_clean.dropna(inplace=True) #Delete null value\n",
        "df_clean = df_clean.reset_index(drop=True) #Reset index"
      ],
      "metadata": {
        "id": "7vTR5as_zJNP"
      },
      "execution_count": 12,
      "outputs": []
    },
    {
      "cell_type": "code",
      "source": [
        "#Merubah Value Target\n",
        "df_clean['Clicked on Ad'].replace({'Yes':1,'No':0},inplace=True)"
      ],
      "metadata": {
        "id": "b_xW3pkSzJNP"
      },
      "execution_count": 13,
      "outputs": []
    },
    {
      "cell_type": "code",
      "source": [
        "#Merubah nama kolom\n",
        "df_clean.rename(columns={'Male':'jenis_kelamin'},inplace=True)"
      ],
      "metadata": {
        "id": "mXW_M-r0zJNQ"
      },
      "execution_count": 14,
      "outputs": []
    },
    {
      "cell_type": "markdown",
      "source": [
        "# Data Preprocessing"
      ],
      "metadata": {
        "id": "hkji1D-sEThr"
      }
    },
    {
      "cell_type": "markdown",
      "source": [
        "## Feature Encoding"
      ],
      "metadata": {
        "id": "2lcm9_ZA9DlK"
      }
    },
    {
      "cell_type": "code",
      "source": [
        "df_encode = df_clean.copy()"
      ],
      "metadata": {
        "id": "BRk_5BwJ9Yv6"
      },
      "execution_count": 15,
      "outputs": []
    },
    {
      "cell_type": "code",
      "source": [
        "df_encode.describe(include='object')"
      ],
      "metadata": {
        "colab": {
          "base_uri": "https://localhost:8080/",
          "height": 175
        },
        "id": "feUTM5P_DOoj",
        "outputId": "095c7d01-86d3-4482-e11a-2c8e98921f4f"
      },
      "execution_count": 16,
      "outputs": [
        {
          "output_type": "execute_result",
          "data": {
            "text/plain": [
              "       jenis_kelamin      city                       province  category  \\\n",
              "count           1000      1000                           1000      1000   \n",
              "unique             2        30                             16        10   \n",
              "top        Perempuan  Surabaya  Daerah Khusus Ibukota Jakarta  Otomotif   \n",
              "freq             521        64                            253       112   \n",
              "\n",
              "       waktu_iklan  \n",
              "count         1000  \n",
              "unique           4  \n",
              "top          malam  \n",
              "freq           379  "
            ],
            "text/html": [
              "\n",
              "  <div id=\"df-2812d705-c195-421e-a2e5-d51d32623f49\">\n",
              "    <div class=\"colab-df-container\">\n",
              "      <div>\n",
              "<style scoped>\n",
              "    .dataframe tbody tr th:only-of-type {\n",
              "        vertical-align: middle;\n",
              "    }\n",
              "\n",
              "    .dataframe tbody tr th {\n",
              "        vertical-align: top;\n",
              "    }\n",
              "\n",
              "    .dataframe thead th {\n",
              "        text-align: right;\n",
              "    }\n",
              "</style>\n",
              "<table border=\"1\" class=\"dataframe\">\n",
              "  <thead>\n",
              "    <tr style=\"text-align: right;\">\n",
              "      <th></th>\n",
              "      <th>jenis_kelamin</th>\n",
              "      <th>city</th>\n",
              "      <th>province</th>\n",
              "      <th>category</th>\n",
              "      <th>waktu_iklan</th>\n",
              "    </tr>\n",
              "  </thead>\n",
              "  <tbody>\n",
              "    <tr>\n",
              "      <th>count</th>\n",
              "      <td>1000</td>\n",
              "      <td>1000</td>\n",
              "      <td>1000</td>\n",
              "      <td>1000</td>\n",
              "      <td>1000</td>\n",
              "    </tr>\n",
              "    <tr>\n",
              "      <th>unique</th>\n",
              "      <td>2</td>\n",
              "      <td>30</td>\n",
              "      <td>16</td>\n",
              "      <td>10</td>\n",
              "      <td>4</td>\n",
              "    </tr>\n",
              "    <tr>\n",
              "      <th>top</th>\n",
              "      <td>Perempuan</td>\n",
              "      <td>Surabaya</td>\n",
              "      <td>Daerah Khusus Ibukota Jakarta</td>\n",
              "      <td>Otomotif</td>\n",
              "      <td>malam</td>\n",
              "    </tr>\n",
              "    <tr>\n",
              "      <th>freq</th>\n",
              "      <td>521</td>\n",
              "      <td>64</td>\n",
              "      <td>253</td>\n",
              "      <td>112</td>\n",
              "      <td>379</td>\n",
              "    </tr>\n",
              "  </tbody>\n",
              "</table>\n",
              "</div>\n",
              "      <button class=\"colab-df-convert\" onclick=\"convertToInteractive('df-2812d705-c195-421e-a2e5-d51d32623f49')\"\n",
              "              title=\"Convert this dataframe to an interactive table.\"\n",
              "              style=\"display:none;\">\n",
              "        \n",
              "  <svg xmlns=\"http://www.w3.org/2000/svg\" height=\"24px\"viewBox=\"0 0 24 24\"\n",
              "       width=\"24px\">\n",
              "    <path d=\"M0 0h24v24H0V0z\" fill=\"none\"/>\n",
              "    <path d=\"M18.56 5.44l.94 2.06.94-2.06 2.06-.94-2.06-.94-.94-2.06-.94 2.06-2.06.94zm-11 1L8.5 8.5l.94-2.06 2.06-.94-2.06-.94L8.5 2.5l-.94 2.06-2.06.94zm10 10l.94 2.06.94-2.06 2.06-.94-2.06-.94-.94-2.06-.94 2.06-2.06.94z\"/><path d=\"M17.41 7.96l-1.37-1.37c-.4-.4-.92-.59-1.43-.59-.52 0-1.04.2-1.43.59L10.3 9.45l-7.72 7.72c-.78.78-.78 2.05 0 2.83L4 21.41c.39.39.9.59 1.41.59.51 0 1.02-.2 1.41-.59l7.78-7.78 2.81-2.81c.8-.78.8-2.07 0-2.86zM5.41 20L4 18.59l7.72-7.72 1.47 1.35L5.41 20z\"/>\n",
              "  </svg>\n",
              "      </button>\n",
              "      \n",
              "  <style>\n",
              "    .colab-df-container {\n",
              "      display:flex;\n",
              "      flex-wrap:wrap;\n",
              "      gap: 12px;\n",
              "    }\n",
              "\n",
              "    .colab-df-convert {\n",
              "      background-color: #E8F0FE;\n",
              "      border: none;\n",
              "      border-radius: 50%;\n",
              "      cursor: pointer;\n",
              "      display: none;\n",
              "      fill: #1967D2;\n",
              "      height: 32px;\n",
              "      padding: 0 0 0 0;\n",
              "      width: 32px;\n",
              "    }\n",
              "\n",
              "    .colab-df-convert:hover {\n",
              "      background-color: #E2EBFA;\n",
              "      box-shadow: 0px 1px 2px rgba(60, 64, 67, 0.3), 0px 1px 3px 1px rgba(60, 64, 67, 0.15);\n",
              "      fill: #174EA6;\n",
              "    }\n",
              "\n",
              "    [theme=dark] .colab-df-convert {\n",
              "      background-color: #3B4455;\n",
              "      fill: #D2E3FC;\n",
              "    }\n",
              "\n",
              "    [theme=dark] .colab-df-convert:hover {\n",
              "      background-color: #434B5C;\n",
              "      box-shadow: 0px 1px 3px 1px rgba(0, 0, 0, 0.15);\n",
              "      filter: drop-shadow(0px 1px 2px rgba(0, 0, 0, 0.3));\n",
              "      fill: #FFFFFF;\n",
              "    }\n",
              "  </style>\n",
              "\n",
              "      <script>\n",
              "        const buttonEl =\n",
              "          document.querySelector('#df-2812d705-c195-421e-a2e5-d51d32623f49 button.colab-df-convert');\n",
              "        buttonEl.style.display =\n",
              "          google.colab.kernel.accessAllowed ? 'block' : 'none';\n",
              "\n",
              "        async function convertToInteractive(key) {\n",
              "          const element = document.querySelector('#df-2812d705-c195-421e-a2e5-d51d32623f49');\n",
              "          const dataTable =\n",
              "            await google.colab.kernel.invokeFunction('convertToInteractive',\n",
              "                                                     [key], {});\n",
              "          if (!dataTable) return;\n",
              "\n",
              "          const docLinkHtml = 'Like what you see? Visit the ' +\n",
              "            '<a target=\"_blank\" href=https://colab.research.google.com/notebooks/data_table.ipynb>data table notebook</a>'\n",
              "            + ' to learn more about interactive tables.';\n",
              "          element.innerHTML = '';\n",
              "          dataTable['output_type'] = 'display_data';\n",
              "          await google.colab.output.renderOutput(dataTable, element);\n",
              "          const docLink = document.createElement('div');\n",
              "          docLink.innerHTML = docLinkHtml;\n",
              "          element.appendChild(docLink);\n",
              "        }\n",
              "      </script>\n",
              "    </div>\n",
              "  </div>\n",
              "  "
            ]
          },
          "metadata": {},
          "execution_count": 16
        }
      ]
    },
    {
      "cell_type": "markdown",
      "source": [
        "City memiliki banyak sekali jumlah unique value, sehingga fitur tersebut akan dihapus untuk mencegah overfitting."
      ],
      "metadata": {
        "id": "CgAXe9tiDXHx"
      }
    },
    {
      "cell_type": "code",
      "source": [
        "df_encode.drop('city',1,inplace=True)"
      ],
      "metadata": {
        "id": "E-VXs5w1Cy-5"
      },
      "execution_count": 17,
      "outputs": []
    },
    {
      "cell_type": "code",
      "source": [
        "#Label\n",
        "\n",
        "df_encode.jenis_kelamin.replace({'Perempuan':0,\n",
        "                                 'Laki-Laki':1},inplace=True)"
      ],
      "metadata": {
        "id": "j0iwWeyy_DXi"
      },
      "execution_count": 18,
      "outputs": []
    },
    {
      "cell_type": "code",
      "source": [
        "#One Hot Encoding\n",
        "onehot = ['province',\n",
        "          'category','waktu_iklan']\n",
        "for i in onehot:\n",
        "    onehots = pd.get_dummies(df_encode[i], prefix=i)\n",
        "    df_encode = df_encode.join(onehots)\n",
        "    \n",
        "df_encode = df_encode.drop(columns=onehot, axis =1)"
      ],
      "metadata": {
        "id": "s0_SqvUDBmsW"
      },
      "execution_count": 19,
      "outputs": []
    },
    {
      "cell_type": "markdown",
      "source": [
        "## Train Test Split"
      ],
      "metadata": {
        "id": "B_SV6VsZEXj5"
      }
    },
    {
      "cell_type": "code",
      "source": [
        "# Pemisahan Features vs Target\n",
        "\n",
        "X = df_encode.drop(columns=['Clicked on Ad'], axis=1)\n",
        "y = df_encode['Clicked on Ad']\n",
        "print(X.shape)\n",
        "print(y.shape)"
      ],
      "metadata": {
        "colab": {
          "base_uri": "https://localhost:8080/"
        },
        "id": "onzEUULjEZih",
        "outputId": "f387d067-9282-49a2-fd82-54b0b5cc2c7f"
      },
      "execution_count": 20,
      "outputs": [
        {
          "output_type": "stream",
          "name": "stdout",
          "text": [
            "(1000, 39)\n",
            "(1000,)\n"
          ]
        }
      ]
    },
    {
      "cell_type": "code",
      "source": [
        "from sklearn.model_selection import train_test_split\n",
        "X_train, X_test, y_train, y_test = train_test_split(X, y, test_size=0.33,random_state = 42)\n",
        "\n",
        "X_train_raw = X_train.copy()\n",
        "X_test_raw = X_test.copy()"
      ],
      "metadata": {
        "id": "FVUPjzhbEdqh"
      },
      "execution_count": 21,
      "outputs": []
    },
    {
      "cell_type": "markdown",
      "source": [
        "## Feature Transformation"
      ],
      "metadata": {
        "id": "Tb8IRqUfFYTU"
      }
    },
    {
      "cell_type": "code",
      "source": [
        "# Fitur transformasi menggunakan log\n",
        "transform = ['Daily Time Spent on Site', 'Age',\n",
        "             'Area Income', 'Daily Internet Usage']\n",
        "\n",
        "X_train.loc[:, transform] = np.log(X_train[transform])\n",
        "X_test.loc[:, transform] = np.log(X_test[transform])"
      ],
      "metadata": {
        "id": "ScQDUXyyEpkX"
      },
      "execution_count": 22,
      "outputs": []
    },
    {
      "cell_type": "markdown",
      "source": [
        "## Feature Standardization"
      ],
      "metadata": {
        "id": "B-aSvkjvGFdf"
      }
    },
    {
      "cell_type": "code",
      "source": [
        "#Merubah skala fitur menjadi 0,1\n",
        "from sklearn.preprocessing import MinMaxScaler\n",
        "ss = MinMaxScaler()\n",
        "\n",
        "X_train[transform] = ss.fit_transform(X_train[transform].values.reshape(len(X_train),4))\n",
        "\n",
        "X_test[transform] = ss.fit_transform(X_test[transform].values.reshape(len(X_test),4))"
      ],
      "metadata": {
        "id": "xlk0me9OGLWj"
      },
      "execution_count": 23,
      "outputs": []
    },
    {
      "cell_type": "markdown",
      "source": [
        "# Data Modeling"
      ],
      "metadata": {
        "id": "QoD5Cd05IBPq"
      }
    },
    {
      "cell_type": "markdown",
      "source": [
        "## Auto ML"
      ],
      "metadata": {
        "id": "twC-QEXsb8wx"
      }
    },
    {
      "cell_type": "markdown",
      "source": [
        "### Data Standarisasi"
      ],
      "metadata": {
        "id": "Q2TBkNi00To0"
      }
    },
    {
      "cell_type": "markdown",
      "source": [
        "**Data Modeling dilakukan menggunakan auto-sklearn.**"
      ],
      "metadata": {
        "id": "J_jUtRv5bePR"
      }
    },
    {
      "cell_type": "code",
      "source": [
        "# pip install auto-sklearn"
      ],
      "metadata": {
        "id": "044yDf1bIHji"
      },
      "execution_count": null,
      "outputs": []
    },
    {
      "cell_type": "code",
      "source": [
        "import autosklearn.classification"
      ],
      "metadata": {
        "id": "tRGwQL8SIC-p"
      },
      "execution_count": 26,
      "outputs": []
    },
    {
      "cell_type": "code",
      "source": [
        "# Inisiasi model\n",
        "model = autosklearn.classification.AutoSklearnClassifier(time_left_for_this_task=7*60, per_run_time_limit=30, n_jobs=2)\n",
        "\n",
        "# Fitting model\n",
        "model.fit(X_train, y_train)\n",
        "\n",
        "# Ringkasan evaluasi auto ml\n",
        "print(model.sprint_statistics())"
      ],
      "metadata": {
        "colab": {
          "base_uri": "https://localhost:8080/"
        },
        "id": "tFSfjMr3IspI",
        "outputId": "792b09b0-4d5a-4197-bfea-f68748627967"
      },
      "execution_count": 27,
      "outputs": [
        {
          "output_type": "stream",
          "name": "stdout",
          "text": [
            "auto-sklearn results:\n",
            "  Dataset name: 7eace1c8-f1e9-11ec-8168-0242ac1c0002\n",
            "  Metric: accuracy\n",
            "  Best validation score: 0.986486\n",
            "  Number of target algorithm runs: 49\n",
            "  Number of successful target algorithm runs: 47\n",
            "  Number of crashed target algorithm runs: 0\n",
            "  Number of target algorithms that exceeded the time limit: 2\n",
            "  Number of target algorithms that exceeded the memory limit: 0\n",
            "\n"
          ]
        }
      ]
    },
    {
      "cell_type": "code",
      "source": [
        "print(model.leaderboard())"
      ],
      "metadata": {
        "colab": {
          "base_uri": "https://localhost:8080/"
        },
        "id": "bGmh3Kf_JZmc",
        "outputId": "07eaeb00-ef57-4443-92e2-471e01782b05"
      },
      "execution_count": 29,
      "outputs": [
        {
          "output_type": "stream",
          "name": "stdout",
          "text": [
            "          rank  ensemble_weight                 type      cost   duration\n",
            "model_id                                                                 \n",
            "3            1             0.14        random_forest  0.013514   6.995527\n",
            "48           2             0.02        random_forest  0.018018   5.977085\n",
            "18           3             0.04        random_forest  0.018018   6.096796\n",
            "50           4             0.04        random_forest  0.022523   5.266626\n",
            "38           5             0.02        liblinear_svc  0.022523   4.810101\n",
            "35           6             0.04   passive_aggressive  0.022523   2.092563\n",
            "19           7             0.02                  mlp  0.022523   3.697578\n",
            "45           8             0.04        random_forest  0.027027   7.089467\n",
            "26           9             0.08  k_nearest_neighbors  0.027027   5.984113\n",
            "25          10             0.04        random_forest  0.027027   9.844723\n",
            "2           11             0.08        random_forest  0.031532   6.094028\n",
            "8           12             0.02                  mlp  0.036036   7.921298\n",
            "17          13             0.04             adaboost  0.036036   6.023274\n",
            "32          14             0.02    gradient_boosting  0.049550   4.305911\n",
            "37          15             0.04   passive_aggressive  0.054054   7.015753\n",
            "47          16             0.02        random_forest  0.063063   5.362874\n",
            "31          17             0.02                  mlp  0.063063   3.966597\n",
            "44          18             0.06        random_forest  0.076577   5.080734\n",
            "10          19             0.04             adaboost  0.148649  15.235950\n",
            "14          20             0.04        random_forest  0.184685  10.173444\n",
            "6           21             0.02  k_nearest_neighbors  0.369369   2.427713\n",
            "49          22             0.06           libsvm_svc  0.477477   2.880757\n",
            "36          23             0.06          extra_trees  0.477477  11.484985\n"
          ]
        }
      ]
    },
    {
      "cell_type": "markdown",
      "source": [
        "### Tanpa Standarisasi"
      ],
      "metadata": {
        "id": "_lJAqG1W0ese"
      }
    },
    {
      "cell_type": "code",
      "source": [
        "# Inisiasi model_raw\n",
        "model_raw = autosklearn.classification.AutoSklearnClassifier(time_left_for_this_task=7*60, per_run_time_limit=30, n_jobs=2)\n",
        "\n",
        "# Fitting model_raw\n",
        "model_raw.fit(X_train_raw, y_train)\n",
        "\n",
        "# Ringkasan evaluasi auto ml\n",
        "print(model_raw.sprint_statistics())"
      ],
      "metadata": {
        "colab": {
          "base_uri": "https://localhost:8080/"
        },
        "id": "xKO9KyIOzowM",
        "outputId": "26fa4fb9-69ab-46e8-ec60-13b9145acf0e"
      },
      "execution_count": 28,
      "outputs": [
        {
          "output_type": "stream",
          "name": "stdout",
          "text": [
            "auto-sklearn results:\n",
            "  Dataset name: 7b0ed492-f1ea-11ec-8168-0242ac1c0002\n",
            "  Metric: accuracy\n",
            "  Best validation score: 0.986486\n",
            "  Number of target algorithm runs: 59\n",
            "  Number of successful target algorithm runs: 57\n",
            "  Number of crashed target algorithm runs: 1\n",
            "  Number of target algorithms that exceeded the time limit: 1\n",
            "  Number of target algorithms that exceeded the memory limit: 0\n",
            "\n"
          ]
        }
      ]
    },
    {
      "cell_type": "code",
      "source": [
        "print(model_raw.leaderboard())"
      ],
      "metadata": {
        "colab": {
          "base_uri": "https://localhost:8080/"
        },
        "id": "YciqZhiY0Z3z",
        "outputId": "250a71f7-768b-4613-f5d5-884b45cdd4e9"
      },
      "execution_count": 30,
      "outputs": [
        {
          "output_type": "stream",
          "name": "stdout",
          "text": [
            "          rank  ensemble_weight               type      cost  duration\n",
            "model_id                                                              \n",
            "3            1             0.12      random_forest  0.013514  4.655343\n",
            "18           2             0.02      random_forest  0.018018  5.096306\n",
            "19           3             0.02                mlp  0.022523  3.964118\n",
            "30           4             0.02                sgd  0.027027  3.903711\n",
            "55           5             0.10      random_forest  0.027027  5.935253\n",
            "25           6             0.02      random_forest  0.027027  5.205625\n",
            "2            7             0.04      random_forest  0.031532  4.230922\n",
            "8            8             0.02                mlp  0.036036  6.738330\n",
            "45           9             0.02        extra_trees  0.036036  5.723123\n",
            "28          10             0.10      random_forest  0.040541  7.781758\n",
            "5           11             0.02  gradient_boosting  0.040541  3.073010\n",
            "46          12             0.04         libsvm_svc  0.040541  3.871048\n",
            "54          13             0.02                lda  0.045045  3.846015\n",
            "40          14             0.08      random_forest  0.049550  9.353078\n",
            "17          15             0.02           adaboost  0.054054  3.922460\n",
            "22          16             0.08         libsvm_svc  0.058559  2.000141\n",
            "52          17             0.02         libsvm_svc  0.058559  3.916273\n",
            "56          18             0.04      random_forest  0.063063  5.737857\n",
            "38          19             0.02       bernoulli_nb  0.063063  3.512083\n",
            "50          20             0.04      decision_tree  0.067568  4.219644\n",
            "44          21             0.06        extra_trees  0.072072  5.001075\n",
            "33          22             0.04      random_forest  0.081081  6.291539\n",
            "42          23             0.02                mlp  0.094595  7.910935\n",
            "14          24             0.02      random_forest  0.184685  4.930364\n"
          ]
        }
      ]
    },
    {
      "cell_type": "markdown",
      "source": [
        "## Evaluasi model"
      ],
      "metadata": {
        "id": "twynSnfFcDwL"
      }
    },
    {
      "cell_type": "code",
      "source": [
        "from sklearn.metrics import accuracy_score, precision_score, recall_score, f1_score, roc_auc_score, roc_curve, auc, confusion_matrix\n",
        "def eval_classification(model):\n",
        "    y_pred = model.predict(X_test)\n",
        "    y_pred_train = model.predict(X_train)\n",
        "    y_pred_proba = model.predict_proba(X_test)\n",
        "    y_pred_proba_train = model.predict_proba(X_train)\n",
        "    print(\"Accuracy (Train Set): %.2f\" % accuracy_score(y_train, y_pred_train))\n",
        "    print(\"Accuracy (Test Set): %.2f\" % accuracy_score(y_test, y_pred))\n",
        "    print(\"Precision (Train Set): %.2f\" % precision_score(y_train, y_pred_train))\n",
        "    print(\"Precision (Test Set): %.2f\" % precision_score(y_test, y_pred))\n",
        "    print(\"Recall (Train Set): %.2f\" % recall_score(y_train, y_pred_train))\n",
        "    print(\"Recall (Test Set): %.2f\" % recall_score(y_test, y_pred))\n",
        "    print(\"F1-Score (Train Set): %.2f\" % f1_score(y_train, y_pred_train))\n",
        "    print(\"F1-Score (Test Set): %.2f\" % f1_score(y_test, y_pred))\n",
        "    print(\"AUC (train-proba): %.2f\" % roc_auc_score(y_train, y_pred_proba_train[:, 1]))\n",
        "    print(\"AUC (test-proba): %.2f\" % roc_auc_score(y_test, y_pred_proba[:, 1]))\n",
        "\n",
        "def eval_classification_raw(model):\n",
        "    y_pred = model.predict(X_test_raw)\n",
        "    y_pred_train = model.predict(X_train_raw)\n",
        "    y_pred_proba = model.predict_proba(X_test_raw)\n",
        "    y_pred_proba_train = model.predict_proba(X_train_raw)\n",
        "    print(\"Accuracy (Train Set): %.2f\" % accuracy_score(y_train, y_pred_train))\n",
        "    print(\"Accuracy (Test Set): %.2f\" % accuracy_score(y_test, y_pred))\n",
        "    print(\"Precision (Train Set): %.2f\" % precision_score(y_train, y_pred_train))\n",
        "    print(\"Precision (Test Set): %.2f\" % precision_score(y_test, y_pred))\n",
        "    print(\"Recall (Train Set): %.2f\" % recall_score(y_train, y_pred_train))\n",
        "    print(\"Recall (Test Set): %.2f\" % recall_score(y_test, y_pred))\n",
        "    print(\"F1-Score (Train Set): %.2f\" % f1_score(y_train, y_pred_train))\n",
        "    print(\"F1-Score (Test Set): %.2f\" % f1_score(y_test, y_pred))\n",
        "    print(\"AUC (train-proba): %.2f\" % roc_auc_score(y_train, y_pred_proba_train[:, 1]))\n",
        "    print(\"AUC (test-proba): %.2f\" % roc_auc_score(y_test, y_pred_proba[:, 1]))\n",
        "    \n",
        "#Confusion plot\n",
        "def fixConfusion(y_pred_train, y_train):\n",
        "  v_array = confusion_matrix(y_pred_train, y_train)\n",
        "  tes=v_array\n",
        "  tes2=[[],[]]\n",
        "  n=len(tes)-1\n",
        "  for i in range(0,len(tes)):\n",
        "    m=len(tes[i])-1\n",
        "    for j in range(0, len(tes[i])):\n",
        "      tes2[i].append(tes[n][m])     \n",
        "      m-=1\n",
        "    n-=1\n",
        "\n",
        "  tes2=np.array(tes2)\n",
        "  sns.heatmap(tes2, annot=tes2, fmt='', cmap='Reds')"
      ],
      "metadata": {
        "id": "agvSrTWKI-M3"
      },
      "execution_count": 31,
      "outputs": []
    },
    {
      "cell_type": "markdown",
      "source": [
        "### Data Standarisasi"
      ],
      "metadata": {
        "id": "gwKBbA6l04Gx"
      }
    },
    {
      "cell_type": "code",
      "source": [
        "#Evaluation\n",
        "eval_classification(model)"
      ],
      "metadata": {
        "colab": {
          "base_uri": "https://localhost:8080/"
        },
        "id": "MbSIDeTFJFUk",
        "outputId": "8a9d70c1-9d8d-47af-ddd7-839e4bc26d37"
      },
      "execution_count": 32,
      "outputs": [
        {
          "output_type": "stream",
          "name": "stdout",
          "text": [
            "Accuracy (Train Set): 0.99\n",
            "Accuracy (Test Set): 0.96\n",
            "Precision (Train Set): 1.00\n",
            "Precision (Test Set): 0.95\n",
            "Recall (Train Set): 0.99\n",
            "Recall (Test Set): 0.95\n",
            "F1-Score (Train Set): 0.99\n",
            "F1-Score (Test Set): 0.95\n",
            "AUC (train-proba): 1.00\n",
            "AUC (test-proba): 0.99\n"
          ]
        }
      ]
    },
    {
      "cell_type": "code",
      "source": [
        "#Confusion Plot\n",
        "plt.figure(figsize=(6,6))\n",
        "y_pred = model.predict(X_test)\n",
        "fixConfusion(y_test, y_pred)"
      ],
      "metadata": {
        "colab": {
          "base_uri": "https://localhost:8080/",
          "height": 374
        },
        "id": "OeJMvj9ccvPA",
        "outputId": "42269495-688b-4ab6-c2cd-46433ed004ed"
      },
      "execution_count": 33,
      "outputs": [
        {
          "output_type": "display_data",
          "data": {
            "text/plain": [
              "<Figure size 432x432 with 2 Axes>"
            ],
            "image/png": "[encoded data removed]"
          },
          "metadata": {
            "needs_background": "light"
          }
        }
      ]
    },
    {
      "cell_type": "code",
      "source": [
        "#ROC Plot\n",
        "from sklearn import metrics\n",
        "y_pred_proba = model.predict_proba(X_test)[::,1]\n",
        "fpr, tpr, _ = metrics.roc_curve(y_test,  y_pred_proba)\n",
        "auc = metrics.roc_auc_score(y_test, y_pred_proba)\n",
        "plt.figure(figsize=(6,6))\n",
        "plt.plot(fpr,tpr,label=\"AUC Score=\"+str(auc))\n",
        "plt.legend(loc=4)\n",
        "plt.show()"
      ],
      "metadata": {
        "colab": {
          "base_uri": "https://localhost:8080/",
          "height": 374
        },
        "id": "TX6heDYAdVVq",
        "outputId": "000b96ab-2675-40e9-e77d-d8f50756aede"
      },
      "execution_count": 34,
      "outputs": [
        {
          "output_type": "display_data",
          "data": {
            "text/plain": [
              "<Figure size 432x432 with 1 Axes>"
            ],
            "image/png": "[encoded data removed]"
          },
          "metadata": {
            "needs_background": "light"
          }
        }
      ]
    },
    {
      "cell_type": "markdown",
      "source": [
        "### Tanpa Standarisasi"
      ],
      "metadata": {
        "id": "DOuOXgh81CjS"
      }
    },
    {
      "cell_type": "code",
      "source": [
        "#Evaluation\n",
        "eval_classification_raw(model)"
      ],
      "metadata": {
        "colab": {
          "base_uri": "https://localhost:8080/"
        },
        "outputId": "90f09d6a-324a-4daf-c453-f903ebfc6b44",
        "id": "BBX4pFfi1CjU"
      },
      "execution_count": 35,
      "outputs": [
        {
          "output_type": "stream",
          "name": "stdout",
          "text": [
            "Accuracy (Train Set): 0.48\n",
            "Accuracy (Test Set): 0.54\n",
            "Precision (Train Set): 0.00\n",
            "Precision (Test Set): 0.00\n",
            "Recall (Train Set): 0.00\n",
            "Recall (Test Set): 0.00\n",
            "F1-Score (Train Set): 0.00\n",
            "F1-Score (Test Set): 0.00\n",
            "AUC (train-proba): 0.59\n",
            "AUC (test-proba): 0.55\n"
          ]
        }
      ]
    },
    {
      "cell_type": "code",
      "source": [
        "#Confusion Plot\n",
        "plt.figure(figsize=(6,6))\n",
        "y_pred_raw = model.predict(X_test_raw)\n",
        "fixConfusion(y_test, y_pred_raw)"
      ],
      "metadata": {
        "colab": {
          "base_uri": "https://localhost:8080/",
          "height": 374
        },
        "outputId": "67844edb-6a57-40e7-cf7f-247367cc7e4f",
        "id": "KnRhVjxQ1CjX"
      },
      "execution_count": 36,
      "outputs": [
        {
          "output_type": "display_data",
          "data": {
            "text/plain": [
              "<Figure size 432x432 with 2 Axes>"
            ],
            "image/png": "[encoded data removed]"
          },
          "metadata": {
            "needs_background": "light"
          }
        }
      ]
    },
    {
      "cell_type": "code",
      "source": [
        "#ROC Plot\n",
        "from sklearn import metrics\n",
        "y_pred_proba = model.predict_proba(X_test_raw)[::,1]\n",
        "fpr, tpr, _ = metrics.roc_curve(y_test,  y_pred_proba)\n",
        "auc = metrics.roc_auc_score(y_test, y_pred_proba)\n",
        "plt.figure(figsize=(6,6))\n",
        "plt.plot(fpr,tpr,label=\"AUC Score=\"+str(auc))\n",
        "plt.legend(loc=4)\n",
        "plt.show()"
      ],
      "metadata": {
        "colab": {
          "base_uri": "https://localhost:8080/",
          "height": 374
        },
        "outputId": "b572fc16-0612-4d36-b8b9-4f0f31a7a5b9",
        "id": "wEUh4dzq1CjZ"
      },
      "execution_count": 37,
      "outputs": [
        {
          "output_type": "display_data",
          "data": {
            "text/plain": [
              "<Figure size 432x432 with 1 Axes>"
            ],
            "image/png": "[encoded data removed]"
          },
          "metadata": {
            "needs_background": "light"
          }
        }
      ]
    },
    {
      "cell_type": "markdown",
      "source": [
        "Data yang dilakukan Standarisasi memiliki performa yang jauh lebih baik. Jadi yang diambil adalah model dengan menggunakan data standarisasi."
      ],
      "metadata": {
        "id": "7BO7_Wgz4nOr"
      }
    },
    {
      "cell_type": "markdown",
      "source": [
        "## Menyimpan Model"
      ],
      "metadata": {
        "id": "dM8S8NUkXQbu"
      }
    },
    {
      "cell_type": "code",
      "source": [
        "import pickle"
      ],
      "metadata": {
        "id": "oLiWnZS6XbL6"
      },
      "execution_count": 38,
      "outputs": []
    },
    {
      "cell_type": "code",
      "source": [
        "# save model\n",
        "with open('customer-click-ad-classifier.pkl', 'wb') as f:\n",
        "    pickle.dump(model, f)"
      ],
      "metadata": {
        "id": "RgI948jDXYk5"
      },
      "execution_count": 39,
      "outputs": []
    },
    {
      "cell_type": "markdown",
      "source": [
        "## Menjelaskan Model"
      ],
      "metadata": {
        "id": "C8KYE0ETXSQO"
      }
    },
    {
      "cell_type": "code",
      "source": [
        "pip install shap"
      ],
      "metadata": {
        "id": "2qUs7dXYPgH7",
        "colab": {
          "base_uri": "https://localhost:8080/"
        },
        "outputId": "0fe009d0-2b9b-4e21-851e-929041d36247"
      },
      "execution_count": 40,
      "outputs": [
        {
          "output_type": "stream",
          "name": "stdout",
          "text": [
            "Looking in indexes: https://pypi.org/simple, https://us-python.pkg.dev/colab-wheels/public/simple/\n",
            "Collecting shap\n",
            "  Downloading shap-0.41.0-cp37-cp37m-manylinux_2_12_x86_64.manylinux2010_x86_64.whl (569 kB)\n",
            "\u001b[K     |████████████████████████████████| 569 kB 5.2 MB/s \n",
            "\u001b[?25hRequirement already satisfied: numpy in /usr/local/lib/python3.7/dist-packages (from shap) (1.21.6)\n",
            "Requirement already satisfied: tqdm>4.25.0 in /usr/local/lib/python3.7/dist-packages (from shap) (4.64.0)\n",
            "Requirement already satisfied: pandas in /usr/local/lib/python3.7/dist-packages (from shap) (1.3.5)\n",
            "Requirement already satisfied: scikit-learn in /usr/local/lib/python3.7/dist-packages (from shap) (0.24.2)\n",
            "Requirement already satisfied: numba in /usr/local/lib/python3.7/dist-packages (from shap) (0.51.2)\n",
            "Collecting slicer==0.0.7\n",
            "  Downloading slicer-0.0.7-py3-none-any.whl (14 kB)\n",
            "Requirement already satisfied: cloudpickle in /usr/local/lib/python3.7/dist-packages (from shap) (2.1.0)\n",
            "Requirement already satisfied: scipy in /usr/local/lib/python3.7/dist-packages (from shap) (1.7.3)\n",
            "Requirement already satisfied: packaging>20.9 in /usr/local/lib/python3.7/dist-packages (from shap) (21.3)\n",
            "Requirement already satisfied: pyparsing!=3.0.5,>=2.0.2 in /usr/local/lib/python3.7/dist-packages (from packaging>20.9->shap) (3.0.9)\n",
            "Requirement already satisfied: llvmlite<0.35,>=0.34.0.dev0 in /usr/local/lib/python3.7/dist-packages (from numba->shap) (0.34.0)\n",
            "Requirement already satisfied: setuptools in /usr/local/lib/python3.7/dist-packages (from numba->shap) (57.4.0)\n",
            "Requirement already satisfied: python-dateutil>=2.7.3 in /usr/local/lib/python3.7/dist-packages (from pandas->shap) (2.8.2)\n",
            "Requirement already satisfied: pytz>=2017.3 in /usr/local/lib/python3.7/dist-packages (from pandas->shap) (2022.1)\n",
            "Requirement already satisfied: six>=1.5 in /usr/local/lib/python3.7/dist-packages (from python-dateutil>=2.7.3->pandas->shap) (1.15.0)\n",
            "Requirement already satisfied: joblib>=0.11 in /usr/local/lib/python3.7/dist-packages (from scikit-learn->shap) (1.1.0)\n",
            "Requirement already satisfied: threadpoolctl>=2.0.0 in /usr/local/lib/python3.7/dist-packages (from scikit-learn->shap) (3.1.0)\n",
            "Installing collected packages: slicer, shap\n",
            "Successfully installed shap-0.41.0 slicer-0.0.7\n"
          ]
        }
      ]
    },
    {
      "cell_type": "code",
      "source": [
        "import shap"
      ],
      "metadata": {
        "id": "Xx_WTZoCP3pZ"
      },
      "execution_count": 41,
      "outputs": []
    },
    {
      "cell_type": "code",
      "source": [
        "explainer = shap.KernelExplainer(model.predict_proba, shap.sample(X_train, 128))\n",
        "shap_values = explainer.shap_values(X_test[:100], nsamples=10)"
      ],
      "metadata": {
        "colab": {
          "base_uri": "https://localhost:8080/",
          "height": 66,
          "referenced_widgets": [
            "9c13281a7afe40bcb234f2ad9f22350e",
            "562f1c718562460cb2ec928b077d76f8",
            "1f130d05fdc4423497c6b50c229eb861",
            "4cb3efc7fe0b474f879a85cda26612f6",
            "fed05b8a34604e3196183df7a1a507bd",
            "73ac7aa813924424ad4860a5ede2ec87",
            "9ede6ccac69c47e9948b6e35486ca791",
            "29ff35dee04145fe8e007525a6dc6819",
            "caabba7dd7604bcf971571f8e20d5f5c",
            "58def47535354160b1378da9f62821dd",
            "f1b04ac5dfb14fcb990a9308e61fbac4"
          ]
        },
        "id": "_LHzL0ZkPxyM",
        "outputId": "f17d8ff0-ba18-4af4-8110-30dc83858675"
      },
      "execution_count": 43,
      "outputs": [
        {
          "output_type": "stream",
          "name": "stdout",
          "text": [
            "[WARNING] [2022-06-22 05:28:32,940:shap] Using 128 background data samples could cause slower run times. Consider using shap.sample(data, K) or shap.kmeans(data, K) to summarize the background as K samples.\n"
          ]
        },
        {
          "output_type": "display_data",
          "data": {
            "text/plain": [
              "  0%|          | 0/100 [00:00<?, ?it/s]"
            ],
            "application/vnd.jupyter.widget-view+json": {
              "version_major": 2,
              "version_minor": 0,
              "model_id": "9c13281a7afe40bcb234f2ad9f22350e"
            }
          },
          "metadata": {}
        }
      ]
    },
    {
      "cell_type": "code",
      "source": [
        "shap.summary_plot(shap_values, X_test.values, feature_names = X.columns)"
      ],
      "metadata": {
        "colab": {
          "base_uri": "https://localhost:8080/",
          "height": 693
        },
        "id": "heoHHeqlTUa4",
        "outputId": "b9b0bfe3-6ed0-488b-c1dc-e365ab7306a4"
      },
      "execution_count": 44,
      "outputs": [
        {
          "output_type": "display_data",
          "data": {
            "text/plain": [
              "<Figure size 576x684 with 1 Axes>"
            ],
            "image/png": "[encoded data removed]"
          },
          "metadata": {
            "needs_background": "light"
          }
        }
      ]
    },
    {
      "cell_type": "markdown",
      "source": [
        "Fitur yang paling berpengaruh kepada model adalah Daily Time Spent on Site, Daiily Internet Usage, Age dan Area Income."
      ],
      "metadata": {
        "id": "zHfDjKskeN-P"
      }
    }
  ]
}